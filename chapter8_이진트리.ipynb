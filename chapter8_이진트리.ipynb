{
 "cells": [
  {
   "cell_type": "markdown",
   "metadata": {},
   "source": [
    "## 높이가 2인 완전 이진 트리 생성"
   ]
  },
  {
   "cell_type": "code",
   "execution_count": 4,
   "metadata": {},
   "outputs": [
    {
     "name": "stdout",
     "output_type": "stream",
     "text": [
      "빨강 \n",
      "주황 노랑 \n",
      "초록 파랑 남색 "
     ]
    }
   ],
   "source": [
    "class TreeNode():\n",
    "    def __init__(self):\n",
    "        self.left = None\n",
    "        self.data = None\n",
    "        self.right = None\n",
    "\n",
    "node1 = TreeNode()\n",
    "node1.data ='빨강'\n",
    "\n",
    "node2 = TreeNode()\n",
    "node2.data = '주황'\n",
    "node1.left = node2\n",
    "\n",
    "node3 = TreeNode()\n",
    "node3.data = '노랑'\n",
    "node1.right = node3\n",
    "\n",
    "node4 = TreeNode()\n",
    "node4.data = '초록'\n",
    "node2.left = node4\n",
    "\n",
    "node5 = TreeNode()\n",
    "node5.data = '파랑'\n",
    "node2.right = node5\n",
    "\n",
    "node6 = TreeNode()\n",
    "node6.data = '남색'\n",
    "node3.left = node6\n",
    "\n",
    "print(node1.data, end=' ')\n",
    "print()\n",
    "print(node1.left.data, node1.right.data, end= ' ')\n",
    "print()\n",
    "print(node1.left.left.data, node1.left.right.data, node1.right.left.data, end=' ')"
   ]
  },
  {
   "cell_type": "markdown",
   "metadata": {},
   "source": [
    "## 이진 탐색 트리의 삽입 작동"
   ]
  },
  {
   "cell_type": "code",
   "execution_count": 5,
   "metadata": {},
   "outputs": [
    {
     "name": "stdout",
     "output_type": "stream",
     "text": [
      "이진 탐색 트리 구성 완료!\n"
     ]
    }
   ],
   "source": [
    "class TreeNode():\n",
    "    def __init__(self):\n",
    "        self.left = None\n",
    "        self.right = None\n",
    "        self.data = None\n",
    "\n",
    "## 전역 변수 선언 부분 ##\n",
    "memory = []\n",
    "root = None\n",
    "nameAry = ['블랙핑크','레드벨벳','마마무','에이핑크','걸스데이','트와이스']\n",
    "\n",
    "## 메인 코드 부분 ##\n",
    "node = TreeNode()\n",
    "node.data = nameAry[0]\n",
    "root = node\n",
    "memory.append(node)\n",
    "\n",
    "for name in nameAry[1:]:\n",
    "\n",
    "    node = TreeNode()\n",
    "    node.data = name\n",
    "\n",
    "    current = root\n",
    "\n",
    "    while True:\n",
    "        if name < current.data :\n",
    "            if current.left == None :\n",
    "                current.left = node\n",
    "                break\n",
    "            current = current.left\n",
    "\n",
    "        else:\n",
    "            if current.right == None:\n",
    "                current.right = node\n",
    "                break\n",
    "            current = current.right\n",
    "\n",
    "    memory.append(node)\n",
    "\n",
    "print('이진 탐색 트리 구성 완료!')"
   ]
  },
  {
   "cell_type": "markdown",
   "metadata": {},
   "source": [
    "## 이진 탐색 트리에서 데이터 검색"
   ]
  },
  {
   "cell_type": "code",
   "execution_count": 16,
   "metadata": {},
   "outputs": [
    {
     "name": "stdout",
     "output_type": "stream",
     "text": [
      "마마무 을(를) 찾음\n"
     ]
    }
   ],
   "source": [
    "findName = '마마무'\n",
    "\n",
    "current = root\n",
    "while True:\n",
    "    if findName == current.data:\n",
    "        print(findName, '을(를) 찾음')\n",
    "        break\n",
    "    elif findName < current.data:\n",
    "        if current.left == None:\n",
    "            print(findName, '이(가) 트리에 없음')\n",
    "            break\n",
    "        current = current.left\n",
    "    else:\n",
    "        if  current.right == None:\n",
    "            print(findName, '이(가) 트리에 없음')\n",
    "            break\n",
    "        current = current.right"
   ]
  },
  {
   "cell_type": "code",
   "execution_count": 17,
   "metadata": {},
   "outputs": [
    {
     "name": "stdout",
     "output_type": "stream",
     "text": [
      "소녀시대 이(가) 트리에 없음\n"
     ]
    }
   ],
   "source": [
    "class TreeNode():\n",
    "    def __init__(self):\n",
    "        self.left = None\n",
    "        self.right = None\n",
    "        self.data = None\n",
    "\n",
    "## 전역 변수 선언 부분 ##\n",
    "memory = []\n",
    "root = None\n",
    "nameAry = nameAry = ['블랙핑크','레드벨벳','마마무','에이핑크','걸스데이','트와이스', '잇지', '여자친구']\n",
    "\n",
    "## 메인 코드 부분 ##\n",
    "node = TreeNode()\n",
    "node.data = nameAry[0]\n",
    "root = node\n",
    "memory.append(node)\n",
    "\n",
    "for name in nameAry[1:]:\n",
    "\n",
    "    node = TreeNode()\n",
    "    node.data = name\n",
    "\n",
    "    current = root\n",
    "\n",
    "    while True:\n",
    "        if name < current.data :\n",
    "            if current.left == None :\n",
    "                current.left = node\n",
    "                break\n",
    "            current = current.left\n",
    "\n",
    "        else:\n",
    "            if current.right == None:\n",
    "                current.right = node\n",
    "                break\n",
    "            current = current.right\n",
    "\n",
    "    memory.append(node)\n",
    "\n",
    "\n",
    "if __name__ == \"__main__\":  \n",
    "    findName = str(input('검색할 이름을 입력하시오'))\n",
    "\n",
    "    current = root\n",
    "    while True:\n",
    "        if findName == current.data:\n",
    "            print(findName, '을(를) 찾음')\n",
    "            break\n",
    "        elif findName < current.data:\n",
    "            if current.left == None:\n",
    "                print(findName, '이(가) 트리에 없음')\n",
    "                break\n",
    "            current = current.left\n",
    "        else:\n",
    "            if  current.right == None:\n",
    "                print(findName, '이(가) 트리에 없음')\n",
    "                break\n",
    "            current = current.right"
   ]
  },
  {
   "cell_type": "code",
   "execution_count": null,
   "metadata": {},
   "outputs": [],
   "source": []
  }
 ],
 "metadata": {
  "interpreter": {
   "hash": "158c7bc230baa679ca182b4718adf686d41531c90bfabba3f011a6ade0a83385"
  },
  "kernelspec": {
   "display_name": "Python 3.10.0 64-bit",
   "name": "python3"
  },
  "language_info": {
   "codemirror_mode": {
    "name": "ipython",
    "version": 3
   },
   "file_extension": ".py",
   "mimetype": "text/x-python",
   "name": "python",
   "nbconvert_exporter": "python",
   "pygments_lexer": "ipython3",
   "version": "3.10.0"
  },
  "orig_nbformat": 4
 },
 "nbformat": 4,
 "nbformat_minor": 2
}
