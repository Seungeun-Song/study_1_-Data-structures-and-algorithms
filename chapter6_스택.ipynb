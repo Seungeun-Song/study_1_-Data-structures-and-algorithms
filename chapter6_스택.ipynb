{
 "cells": [
  {
   "cell_type": "markdown",
   "metadata": {},
   "source": [
    "# 스택의 간단 구현\n",
    "push"
   ]
  },
  {
   "cell_type": "code",
   "execution_count": null,
   "metadata": {},
   "outputs": [],
   "source": [
    "stack = [None, None, None, None, None]\n",
    "top = -1 # 초기화 상태"
   ]
  },
  {
   "cell_type": "code",
   "execution_count": null,
   "metadata": {},
   "outputs": [],
   "source": [
    "top += 1\n",
    "stack[top] = '커피'"
   ]
  },
  {
   "cell_type": "code",
   "execution_count": null,
   "metadata": {},
   "outputs": [],
   "source": [
    "top += 1\n",
    "stack[top] = '녹차'"
   ]
  },
  {
   "cell_type": "code",
   "execution_count": null,
   "metadata": {},
   "outputs": [],
   "source": [
    "top += 1\n",
    "stack[top] = '꿀물'"
   ]
  },
  {
   "cell_type": "code",
   "execution_count": null,
   "metadata": {},
   "outputs": [
    {
     "name": "stdout",
     "output_type": "stream",
     "text": [
      "['커피', '녹차', '꿀물', None, None]\n"
     ]
    }
   ],
   "source": [
    "print(stack)"
   ]
  },
  {
   "cell_type": "markdown",
   "metadata": {},
   "source": [
    "pop"
   ]
  },
  {
   "cell_type": "code",
   "execution_count": null,
   "metadata": {},
   "outputs": [
    {
     "data": {
      "text/plain": [
       "2"
      ]
     },
     "execution_count": 6,
     "metadata": {},
     "output_type": "execute_result"
    }
   ],
   "source": [
    "top"
   ]
  },
  {
   "cell_type": "code",
   "execution_count": null,
   "metadata": {},
   "outputs": [
    {
     "name": "stdout",
     "output_type": "stream",
     "text": [
      "꿀물\n"
     ]
    }
   ],
   "source": [
    "# data를 빼내는 작업\n",
    "data = stack[top]\n",
    "print(data)"
   ]
  },
  {
   "cell_type": "code",
   "execution_count": null,
   "metadata": {},
   "outputs": [
    {
     "name": "stdout",
     "output_type": "stream",
     "text": [
      "['커피', '녹차', None, None, None]\n"
     ]
    }
   ],
   "source": [
    "stack[top] = None\n",
    "top -= 1\n",
    "print(stack)"
   ]
  },
  {
   "cell_type": "code",
   "execution_count": null,
   "metadata": {},
   "outputs": [
    {
     "data": {
      "text/plain": [
       "1"
      ]
     },
     "execution_count": 9,
     "metadata": {},
     "output_type": "execute_result"
    }
   ],
   "source": [
    "top"
   ]
  },
  {
   "cell_type": "code",
   "execution_count": null,
   "metadata": {},
   "outputs": [
    {
     "name": "stdout",
     "output_type": "stream",
     "text": [
      "녹차\n"
     ]
    }
   ],
   "source": [
    "data = stack[top]\n",
    "print(data)"
   ]
  },
  {
   "cell_type": "code",
   "execution_count": null,
   "metadata": {},
   "outputs": [
    {
     "name": "stdout",
     "output_type": "stream",
     "text": [
      "['커피', None, None, None, None]\n"
     ]
    }
   ],
   "source": [
    "stack[top] = None\n",
    "top -= 1\n",
    "print(stack)"
   ]
  },
  {
   "cell_type": "code",
   "execution_count": null,
   "metadata": {},
   "outputs": [
    {
     "data": {
      "text/plain": [
       "0"
      ]
     },
     "execution_count": 12,
     "metadata": {},
     "output_type": "execute_result"
    }
   ],
   "source": [
    "top"
   ]
  },
  {
   "cell_type": "code",
   "execution_count": null,
   "metadata": {},
   "outputs": [
    {
     "name": "stdout",
     "output_type": "stream",
     "text": [
      "커피\n"
     ]
    }
   ],
   "source": [
    "data = stack[top]\n",
    "print(data)"
   ]
  },
  {
   "cell_type": "code",
   "execution_count": null,
   "metadata": {},
   "outputs": [
    {
     "name": "stdout",
     "output_type": "stream",
     "text": [
      "[None, None, None, None, None]\n"
     ]
    }
   ],
   "source": [
    "stack[top] = None\n",
    "top -= 1\n",
    "print(stack)"
   ]
  },
  {
   "cell_type": "code",
   "execution_count": null,
   "metadata": {},
   "outputs": [
    {
     "data": {
      "text/plain": [
       "-1"
      ]
     },
     "execution_count": 15,
     "metadata": {},
     "output_type": "execute_result"
    }
   ],
   "source": [
    "top"
   ]
  },
  {
   "cell_type": "markdown",
   "metadata": {},
   "source": [
    "# 스택의 일반구현\n",
    "스택 초기화"
   ]
  },
  {
   "cell_type": "code",
   "execution_count": null,
   "metadata": {},
   "outputs": [
    {
     "name": "stdout",
     "output_type": "stream",
     "text": [
      "[None, None, None, None, None]\n"
     ]
    }
   ],
   "source": [
    "size = 5\n",
    "stack = [None for _ in range(size)]\n",
    "top = -1\n",
    "print(stack)"
   ]
  },
  {
   "cell_type": "code",
   "execution_count": null,
   "metadata": {},
   "outputs": [
    {
     "name": "stdout",
     "output_type": "stream",
     "text": [
      "스택이 꽉 찾는지 여부 ==> True\n"
     ]
    }
   ],
   "source": [
    "# 스택이 꽉 찾는지 확인\n",
    "\n",
    "def isStackFull():\n",
    "    global size, stack, top\n",
    "    if (top >= size-1):\n",
    "        return True\n",
    "    else:\n",
    "        return False\n",
    "\n",
    "size = 5\n",
    "stack = ['커피', '녹차', '꿀물', '콜라', '환타']\n",
    "top = 4\n",
    "\n",
    "print(\"스택이 꽉 찾는지 여부 ==>\", isStackFull())"
   ]
  },
  {
   "cell_type": "code",
   "execution_count": null,
   "metadata": {},
   "outputs": [
    {
     "name": "stdout",
     "output_type": "stream",
     "text": [
      "['커피', '녹차', '꿀물', '콜라', None]\n",
      "['커피', '녹차', '꿀물', '콜라', '환타']\n",
      "스택이 꽉 찾습니다.\n"
     ]
    }
   ],
   "source": [
    "# 스택에 데이터 삽입\n",
    "\n",
    "def push(data):\n",
    "    global size, stack, top\n",
    "    if (isStackFull()):\n",
    "        print(\"스택이 꽉 찾습니다.\")\n",
    "        return    #함수를 종료\n",
    "    top += 1\n",
    "    stack[top] = data\n",
    "\n",
    "size = 5\n",
    "stack = ['커피', '녹차', '꿀물', '콜라', None]\n",
    "top = 3\n",
    "\n",
    "print(stack)\n",
    "push(\"환타\")\n",
    "print(stack)\n",
    "push(\"게토레이\")"
   ]
  },
  {
   "cell_type": "code",
   "execution_count": null,
   "metadata": {},
   "outputs": [
    {
     "name": "stdout",
     "output_type": "stream",
     "text": [
      "스택이 비었는지 유무 ==> True\n"
     ]
    }
   ],
   "source": [
    "# 스택이 비었는지 확인\n",
    "\n",
    "def isStackEmpty():\n",
    "    global size, stack, top\n",
    "    if (top == -1):\n",
    "        return True\n",
    "    else:\n",
    "        return False\n",
    "\n",
    "size = 5\n",
    "stack = [ None for _ in range(size)]\n",
    "top = -1\n",
    "\n",
    "print(\"스택이 비었는지 유무 ==>\", isStackEmpty())"
   ]
  },
  {
   "cell_type": "code",
   "execution_count": null,
   "metadata": {},
   "outputs": [
    {
     "name": "stdout",
     "output_type": "stream",
     "text": [
      "['커피', None, None, None, None] 0\n",
      "추출한 데이터 ==> 커피\n",
      "[None, None, None, None, None] -1\n",
      "스택이 비었습니다\n",
      "추출한 데이터 ==> None\n"
     ]
    }
   ],
   "source": [
    "# 데이터를 추출\n",
    "\n",
    "def pop():\n",
    "    global size, stack, top\n",
    "    if (isStackEmpty()):\n",
    "        print(\"스택이 비었습니다\")\n",
    "        return \n",
    "    data = stack[top]\n",
    "    stack[top] = None\n",
    "    top -= 1\n",
    "    return data\n",
    "\n",
    "size = 5\n",
    "stack = [\"커피\", None, None,None,None]\n",
    "top = 0\n",
    "\n",
    "print(stack, top)\n",
    "print(\"추출한 데이터 ==>\", pop())\n",
    "print(stack, top)\n",
    "print(\"추출한 데이터 ==>\", pop())"
   ]
  },
  {
   "cell_type": "code",
   "execution_count": 27,
   "metadata": {},
   "outputs": [
    {
     "name": "stdout",
     "output_type": "stream",
     "text": [
      "꿀물\n"
     ]
    }
   ],
   "source": [
    "# top 위치의 데이터를 확인만 하고 스택에 그대로 두는 것 = peek / top 값는 변동X\n",
    "\n",
    "def isStackEmpty():\n",
    "    global size, stack, top\n",
    "    if (top==-1):\n",
    "        return True\n",
    "    else:\n",
    "        return False\n",
    "\n",
    "def peek():\n",
    "    global size, stack, top\n",
    "    if (isStackEmpty()):\n",
    "        print(\"스택이 비었습니다.\")\n",
    "        return None\n",
    "    return stack[top]\n",
    "\n",
    "\n",
    "\n",
    "size = 5\n",
    "stack = ['커피', '녹차', '꿀물', None, None]\n",
    "top = 2\n",
    "\n",
    "print(stack, top)\n",
    "print(\"top의 데이터 확인 ==>\", peek())\n",
    "print(stack, top)\n"
   ]
  },
  {
   "cell_type": "markdown",
   "metadata": {},
   "source": [
    "# 완성된 스택"
   ]
  },
  {
   "cell_type": "code",
   "execution_count": 28,
   "metadata": {},
   "outputs": [
    {
     "name": "stdout",
     "output_type": "stream",
     "text": [
      "스택이 비었습니다.\n",
      "확인된 데이터 ==>  None\n",
      "스택 상태 :  [None, None, None, None, None]\n",
      "스택 상태 :  ['나비', None, None, None, None]\n",
      "스택 상태 :  ['나비', '장미', None, None, None]\n",
      "추출된 데이터 ==>  장미\n",
      "스택 상태 :  ['나비', None, None, None, None]\n",
      "확인된 데이터 ==>  나비\n",
      "스택 상태 :  ['나비', None, None, None, None]\n",
      "프로그램 종료.\n"
     ]
    }
   ],
   "source": [
    "# 스택이 비었는지\n",
    "def isStackEmpty():\n",
    "    global size, stack, top\n",
    "    if top == -1:\n",
    "        return True\n",
    "    return False\n",
    "\n",
    "\n",
    "# 스택이 꽉 찾는지\n",
    "def isStackFull():\n",
    "    global size, stack, top\n",
    "    if (top >= size-1):\n",
    "        return True\n",
    "    return False\n",
    "\n",
    "# push\n",
    "def push(data):\n",
    "    global size, stack, top\n",
    "    if isStackFull():\n",
    "        print(\"스택이 꽉 찼습니다\")\n",
    "        return None\n",
    "    top += 1\n",
    "    stack[top] = data\n",
    "\n",
    "# pop\n",
    "def pop():\n",
    "    global size, stack, top\n",
    "    if isStackEmpty():\n",
    "        print(\"스택이 비었습니다\")\n",
    "        return\n",
    "    data = stack[top] \n",
    "    stack[top] = None\n",
    "    top -= 1\n",
    "    return data\n",
    "\n",
    "# peek\n",
    "def peek():\n",
    "    global size, stack, top\n",
    "    if isStackEmpty():\n",
    "        print(\"스택이 비었습니다.\")\n",
    "        return \n",
    "    return stack[top]\n",
    "\n",
    "\n",
    "size = int(input(\"스택의 크기를 입력하세요 ==> \"))\n",
    "stack = [None for _ in range(size)]\n",
    "top = -1\n",
    "\n",
    "\n",
    "if __name__ == \"__main__\":\n",
    "    select = input(\"삽입(I)/추출(E)/확인(V)/종료(X) 중 하나를 선택하시오 ==> \")\n",
    "\n",
    "    while (select != 'X' and select != 'x'):\n",
    "        if select == 'I' or select == 'i':\n",
    "            data = input(\"입력할 데이터 ==> \")\n",
    "            push(data)\n",
    "            print(\"스택 상태 : \", stack)\n",
    "\n",
    "        elif select =='E' or select == 'e':\n",
    "            print(\"추출된 데이터 ==> \",  pop())\n",
    "            print(\"스택 상태 : \", stack)\n",
    "\n",
    "        elif select ==\"V\" or select == \"v\":\n",
    "            print(\"확인된 데이터 ==> \", peek())\n",
    "            print(\"스택 상태 : \", stack)\n",
    "\n",
    "        else:\n",
    "            print(\"입력이 잘못되었습니다\")\n",
    "\n",
    "        select = input(\"삽입(I)/추출(E)/확인(V)/종료(X) 중 하나를 선택하시오 ==> \")\n",
    "\n",
    "    print(\"프로그램 종료.\")"
   ]
  },
  {
   "cell_type": "markdown",
   "metadata": {},
   "source": [
    "# 스택의 응용\n",
    "\n",
    "웹 서핑에서 이전 페이지로 돌아가기"
   ]
  },
  {
   "cell_type": "code",
   "execution_count": 32,
   "metadata": {},
   "outputs": [
    {
     "name": "stdout",
     "output_type": "stream",
     "text": [
      "naver.com ['naver.com', None, None, None, None]-->google.com ['naver.com', 'google.com', None, None, None]-->daum.net ['naver.com', 'google.com', 'daum.net', None, None]-->방문 종료\n",
      "daum.net ['naver.com', 'google.com', None, None, None]-->google.com ['naver.com', None, None, None, None]-->naver.com [None, None, None, None, None]-->스택이 비었습니다\n",
      "방문 종료\n"
     ]
    }
   ],
   "source": [
    "import webbrowser\n",
    "import time\n",
    "\n",
    "# 스택이 비었는지\n",
    "def isStackEmpty():\n",
    "    global size, stack, top\n",
    "    if top == -1:\n",
    "        return True\n",
    "    return False\n",
    "\n",
    "\n",
    "# 스택이 꽉 찾는지\n",
    "def isStackFull():\n",
    "    global size, stack, top\n",
    "    if (top >= size-1):\n",
    "        return True\n",
    "    return False\n",
    "\n",
    "# push\n",
    "def push(data):\n",
    "    global size, stack, top\n",
    "    if isStackFull():\n",
    "        print(\"스택이 꽉 찼습니다\")\n",
    "        return None\n",
    "    top += 1\n",
    "    stack[top] = data\n",
    "\n",
    "# pop\n",
    "def pop():\n",
    "    global size, stack, top\n",
    "    if isStackEmpty():\n",
    "        print(\"스택이 비었습니다\")\n",
    "        return\n",
    "    data = stack[top] \n",
    "    stack[top] = None\n",
    "    top -= 1\n",
    "    return data\n",
    "\n",
    "# peek\n",
    "def peek():\n",
    "    global size, stack, top\n",
    "    if isStackEmpty():\n",
    "        print(\"스택이 비었습니다.\")\n",
    "        return \n",
    "    return stack[top]\n",
    "\n",
    "\n",
    "size = 5\n",
    "stack = [None for _ in range(size)]\n",
    "top = -1\n",
    "\n",
    "if __name__ == \"__main__\":\n",
    "    urls = ['naver.com', 'google.com','daum.net']\n",
    "\n",
    "    for url in urls:\n",
    "        push(url)\n",
    "        webbrowser.open('http://'+url)\n",
    "        print(url, stack, end='-->')\n",
    "        time.sleep(1)\n",
    "\n",
    "    print(\"방문 종료\")\n",
    "    time.sleep(5)\n",
    "\n",
    "    while True:\n",
    "        url = pop()\n",
    "        if url == None:\n",
    "            break\n",
    "        webbrowser.open('http://'+url)\n",
    "        print(url, stack, end='-->')\n",
    "        time.sleep(1)\n",
    "    print(\"방문 종료\")"
   ]
  },
  {
   "cell_type": "code",
   "execution_count": null,
   "metadata": {},
   "outputs": [],
   "source": []
  }
 ],
 "metadata": {
  "interpreter": {
   "hash": "158c7bc230baa679ca182b4718adf686d41531c90bfabba3f011a6ade0a83385"
  },
  "kernelspec": {
   "display_name": "Python 3.10.0 64-bit",
   "name": "python3"
  },
  "language_info": {
   "codemirror_mode": {
    "name": "ipython",
    "version": 3
   },
   "file_extension": ".py",
   "mimetype": "text/x-python",
   "name": "python",
   "nbconvert_exporter": "python",
   "pygments_lexer": "ipython3",
   "version": "3.10.0"
  },
  "orig_nbformat": 4
 },
 "nbformat": 4,
 "nbformat_minor": 2
}
