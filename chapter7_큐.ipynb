{
 "cells": [
  {
   "cell_type": "markdown",
   "metadata": {},
   "source": [
    "# 02. 큐의 간단 구현"
   ]
  },
  {
   "cell_type": "code",
   "execution_count": 1,
   "metadata": {},
   "outputs": [],
   "source": [
    "# 큐 생성\n",
    "\n",
    "queue = [None,None,None,None,None]\n",
    "front = rear = -1"
   ]
  },
  {
   "cell_type": "code",
   "execution_count": 2,
   "metadata": {},
   "outputs": [
    {
     "name": "stdout",
     "output_type": "stream",
     "text": [
      "------큐의 상태--------\n",
      "[출구] <--  빨강 주황 노랑 None None <---- [입구] \n"
     ]
    }
   ],
   "source": [
    "# 데이터 삽입 : enQueue\n",
    "\n",
    "rear += 1\n",
    "queue[rear] = '빨강'\n",
    "rear += 1\n",
    "queue[rear] = '주황'\n",
    "rear += 1\n",
    "queue[rear] = '노랑'\n",
    "\n",
    "print('------큐의 상태--------')\n",
    "print('[출구] <-- ', end = ' ')\n",
    "for i in range(0, len(queue), 1):\n",
    "    print(queue[i], end= ' ')\n",
    "print('<---- [입구] ')"
   ]
  },
  {
   "cell_type": "code",
   "execution_count": 17,
   "metadata": {},
   "outputs": [
    {
     "name": "stdout",
     "output_type": "stream",
     "text": [
      "-----------------------------큐 상태------------------------------\n",
      "[출구]  <------   빨강,  주황,  노랑,  None,  None,   <-----  [입구] \n",
      "-----------------------------------------------------------------\n",
      "\n",
      "\n",
      "\n",
      "\n",
      "deQueue  -->   빨강\n",
      "deQueue  -->   주황\n",
      "deQueue  -->   노랑\n",
      "\n",
      "\n",
      "\n",
      "\n",
      "-----------------------------큐 상태------------------------------\n",
      "[출구]  <------   None,  None,  None,  None,  None,   <-----  [입구] \n",
      "-----------------------------------------------------------------\n"
     ]
    }
   ],
   "source": [
    "# 데이터 추출 : deQueue\n",
    "\n",
    "queue = ['빨강', '주황', '노랑', None, None]\n",
    "front = -1\n",
    "rear = 2\n",
    "\n",
    "print(\"-----------------------------큐 상태------------------------------\")\n",
    "print('[출구]  <------  ', end = \" \")\n",
    "for i in range(len(queue)):\n",
    "    print(queue[i], end = \",  \")\n",
    "print(' <-----  [입구] ')\n",
    "print('-----------------------------------------------------------------')\n",
    "print('\\n\\n\\n')\n",
    "# front += 1 \n",
    "# data = queue[front]\n",
    "# queue[front] = None\n",
    "# print('deQueue  -->  ', end=' ')\n",
    "\n",
    "for i in range(int(rear)+1):\n",
    "    front += 1\n",
    "    data = queue[front]\n",
    "    queue[front] = None\n",
    "    print('deQueue  -->  ', data)\n",
    "\n",
    "\n",
    "print('\\n\\n\\n')\n",
    "print(\"-----------------------------큐 상태------------------------------\")\n",
    "print('[출구]  <------  ', end = \" \")\n",
    "for i in range(len(queue)):\n",
    "    print(queue[i], end = \",  \")\n",
    "print(' <-----  [입구] ')\n",
    "print('-----------------------------------------------------------------')"
   ]
  },
  {
   "cell_type": "markdown",
   "metadata": {},
   "source": [
    "# 03. 큐의 일반 구현"
   ]
  },
  {
   "cell_type": "code",
   "execution_count": 18,
   "metadata": {},
   "outputs": [],
   "source": [
    "# 큐 초기화\n",
    "\n",
    "size = 5\n",
    "queue = [ None for _ in range(size)]\n",
    "front = rear = -1\n"
   ]
  },
  {
   "cell_type": "code",
   "execution_count": 19,
   "metadata": {},
   "outputs": [
    {
     "name": "stdout",
     "output_type": "stream",
     "text": [
      "큐가 꽉 찼는지 여부 ==>  True\n"
     ]
    }
   ],
   "source": [
    "# 큐가 꽉 찼는지 확인하는 함수\n",
    "\n",
    "def isQueueFull():\n",
    "    global size, queue, front, rear\n",
    "    if rear == size-1 :\n",
    "        return True\n",
    "    return False\n",
    "\n",
    "size = 5\n",
    "queue = ['빨강','주황','노랑','초록','파랑']\n",
    "front = -1\n",
    "rear = 4\n",
    "\n",
    "print(\"큐가 꽉 찼는지 여부 ==> \", isQueueFull())"
   ]
  },
  {
   "cell_type": "code",
   "execution_count": 38,
   "metadata": {},
   "outputs": [
    {
     "name": "stdout",
     "output_type": "stream",
     "text": [
      "['빨강', '주황', '노랑', '초록', None]\n",
      "['빨강', '주황', '노랑', '초록', '노랑']\n",
      "큐가 꽉 찼습니다.\n"
     ]
    }
   ],
   "source": [
    "# 데이터 삽입\n",
    "\n",
    "def enQueue(Data):\n",
    "    global size, queue, front, rear\n",
    "    if (isQueueFull()) :\n",
    "        print('큐가 꽉 찼습니다.')\n",
    "        return\n",
    "    rear += 1\n",
    "    queue[rear] = data\n",
    "\n",
    "size = 5\n",
    "queue = ['빨강','주황','노랑','초록', None]\n",
    "front = -1\n",
    "rear = 3\n",
    "\n",
    "print(queue)\n",
    "enQueue('파랑')          # 왜 파랑이 아니라 노랑으로 출력되지????????????\n",
    "print(queue)\n",
    "enQueue('남색')"
   ]
  },
  {
   "cell_type": "code",
   "execution_count": 39,
   "metadata": {},
   "outputs": [
    {
     "name": "stdout",
     "output_type": "stream",
     "text": [
      "큐가 비었는지 여부 ==>  True\n"
     ]
    }
   ],
   "source": [
    "# 큐가 비었는지 체크\n",
    "\n",
    "def isQueueEmpty():\n",
    "    global size, queue, front, rear\n",
    "    if front == rear:\n",
    "        return True\n",
    "    return False\n",
    "\n",
    "size = 5\n",
    "queue = [ None for _ in range(size)]\n",
    "front = rear = -1\n",
    "\n",
    "print(\"큐가 비었는지 여부 ==> \", isQueueEmpty())"
   ]
  },
  {
   "cell_type": "code",
   "execution_count": 47,
   "metadata": {},
   "outputs": [
    {
     "name": "stdout",
     "output_type": "stream",
     "text": [
      "['빨강', None, None, None, None]\n",
      "추출한 데이터 -->  빨강\n",
      "[None, None, None, None, None]\n",
      "큐가 비었습니다\n",
      "추출한 데이터 -->  None\n"
     ]
    }
   ],
   "source": [
    "# 데이터를 추출하는 함수\n",
    "\n",
    "def deQueue():\n",
    "    global size, queue, front, rear\n",
    "    if isQueueEmpty():\n",
    "        print(\"큐가 비었습니다\")\n",
    "        return\n",
    "    front += 1\n",
    "    data = queue[front] \n",
    "    queue[front] = None\n",
    "    return data\n",
    "\n",
    "size = 5\n",
    "queue = ['빨강',None,None,None,None]\n",
    "front = -1\n",
    "rear = 0\n",
    "\n",
    "print(queue)\n",
    "print(\"추출한 데이터 --> \", deQueue())\n",
    "print(queue)\n",
    "print(\"추출한 데이터 --> \", deQueue())"
   ]
  },
  {
   "cell_type": "code",
   "execution_count": 49,
   "metadata": {},
   "outputs": [
    {
     "name": "stdout",
     "output_type": "stream",
     "text": [
      "['빨강', '주황', '노랑', '초록', None]\n",
      "다음에 추출될 데이터 -->  빨강\n"
     ]
    }
   ],
   "source": [
    "# 데이터 확인\n",
    "\n",
    "def peek():\n",
    "    global size, queue, front, rear\n",
    "    if isQueueEmpty():\n",
    "        print(\"큐가 비었습니다.\")\n",
    "        return\n",
    "    return queue[front+1]\n",
    "\n",
    "\n",
    "size = 5\n",
    "queue = ['빨강','주황','노랑','초록', None]\n",
    "front = -1\n",
    "rear = 3\n",
    "\n",
    "print(queue)\n",
    "print('다음에 추출될 데이터 --> ', peek())"
   ]
  },
  {
   "cell_type": "markdown",
   "metadata": {},
   "source": [
    "# 04. 큐 완성"
   ]
  },
  {
   "cell_type": "code",
   "execution_count": 2,
   "metadata": {},
   "outputs": [
    {
     "name": "stdout",
     "output_type": "stream",
     "text": [
      "큐가 비었습니다\n",
      "확인된 데이터 ==>  None\n",
      "큐 상태 :  [None, None, None, None, None, None, None]\n",
      "큐의 상태 ==>  ['빨강', None, None, None, None, None, None]\n",
      "큐의 상태 ==>  ['빨강', '주황', None, None, None, None, None]\n",
      "큐의 상태 ==>  ['빨강', '주황', '노랑', None, None, None, None]\n",
      "추출된 데이터 ==>  빨강\n",
      "큐 상태 :  [None, '주황', '노랑', None, None, None, None]\n",
      "추출된 데이터 ==>  주황\n",
      "큐 상태 :  [None, None, '노랑', None, None, None, None]\n",
      "확인된 데이터 ==>  노랑\n",
      "큐 상태 :  [None, None, '노랑', None, None, None, None]\n",
      "프로그램 종료\n"
     ]
    }
   ],
   "source": [
    "# 큐가 꽉 찼는지 여부\n",
    "def isQueueFull():\n",
    "    global size, queue, front, rear\n",
    "    if rear == size+1 :\n",
    "        return True\n",
    "    return False\n",
    "\n",
    "\n",
    "# 큐가 비었는지 여부\n",
    "def isQueueEmpty():\n",
    "    global size, queue, front, rear\n",
    "    if front == rear:\n",
    "        return True\n",
    "    return False\n",
    "\n",
    "\n",
    "# 데이터를 삽입\n",
    "def enQueue(data):\n",
    "    global size, queue, front, rear\n",
    "    if isQueueFull():\n",
    "        print(\"큐가 꽉 찼습니다.\")\n",
    "        return\n",
    "    rear += 1\n",
    "    queue[rear] = data\n",
    "\n",
    "\n",
    "#  데이터를 추출\n",
    "def deQueue():\n",
    "    global size, queue, front, rear\n",
    "    if isQueueEmpty():\n",
    "        print(\"큐가 비었습니다\")\n",
    "        return\n",
    "    front += 1\n",
    "    data = queue[front]\n",
    "    queue[front] = None\n",
    "    return data\n",
    "\n",
    "\n",
    "# 데이터 확인\n",
    "def peek():\n",
    "    global size, queue, front, rear\n",
    "    if isQueueEmpty():\n",
    "        print(\"큐가 비었습니다\")\n",
    "        return\n",
    "    return queue[front+1]\n",
    "\n",
    "\n",
    "\n",
    "########  전역변수 선언 부분 ########\n",
    "\n",
    "size = int(input(\"큐 크기를 입력하세요 ==> \"))\n",
    "queue = [None for _ in range(size)]\n",
    "front = rear = -1\n",
    "\n",
    "\n",
    "####### 메인 코드 ########\n",
    "\n",
    "if __name__ == \"__main__\":\n",
    "    select = input(\"삽입(I)/추출(E)/확인(V)/종료(X) 중 하나 선택 ==> \")\n",
    "    \n",
    "    while select != 'x' and select != 'X':\n",
    "        if select == 'I' or select == \"i\":\n",
    "            data = input(\"입력할 데이터 ==> \")\n",
    "            enQueue(data)\n",
    "            print(\"큐의 상태 ==> \", queue)\n",
    "\n",
    "        elif select == 'E' or select == 'e':\n",
    "            data = deQueue()\n",
    "            print(\"추출된 데이터 ==> \", data)\n",
    "            print('큐 상태 : ', queue)\n",
    "\n",
    "        elif select == 'V' or select == 'v':\n",
    "            data = peek()\n",
    "            print(\"확인된 데이터 ==> \", data)\n",
    "            print(\"큐 상태 : \", queue)\n",
    "\n",
    "        else:\n",
    "            print(\"입력이 잘못되었습니다.\")\n",
    "        \n",
    "\n",
    "        select = input(\"삽입(I)/추출(E)/확인(V)/종료(X) 중 하나 선택 ==> \")\n",
    "\n",
    "    print(\"프로그램 종료\")\n"
   ]
  },
  {
   "cell_type": "markdown",
   "metadata": {},
   "source": [
    "# 기능 통합 버전 개선\n",
    "\n",
    "* rear는 꽉 찼어도 front부분에서 추출되었을 경우, 앞쪽은 비게 되니까\n",
    "* rear == queue-1 and front == -1  : 큐가 꽉 찬\n",
    "* 비어있는 앞쪽에 바로 데이터를 넣을 수 없음. 뒤에 데이터를 앞으로 이동"
   ]
  },
  {
   "cell_type": "code",
   "execution_count": null,
   "metadata": {},
   "outputs": [],
   "source": [
    "def isQueueFull():\n",
    "    global size, queue, front, rear\n",
    "    if rear != size-1:\n",
    "        return False\n",
    "    elif rear == size -1 and front == -1:\n",
    "        return True\n",
    "    else:\n",
    "        for i in range(front+1, size):\n",
    "            queue[i-1] = queue[i]\n",
    "            queue[i] = None\n",
    "        front -= 1\n",
    "        rear -= 1\n",
    "        return False\n",
    "\n",
    "size = 5\n"
   ]
  }
 ],
 "metadata": {
  "interpreter": {
   "hash": "158c7bc230baa679ca182b4718adf686d41531c90bfabba3f011a6ade0a83385"
  },
  "kernelspec": {
   "display_name": "Python 3.10.0 64-bit",
   "name": "python3"
  },
  "language_info": {
   "codemirror_mode": {
    "name": "ipython",
    "version": 3
   },
   "file_extension": ".py",
   "mimetype": "text/x-python",
   "name": "python",
   "nbconvert_exporter": "python",
   "pygments_lexer": "ipython3",
   "version": "3.10.0"
  },
  "orig_nbformat": 4
 },
 "nbformat": 4,
 "nbformat_minor": 2
}
