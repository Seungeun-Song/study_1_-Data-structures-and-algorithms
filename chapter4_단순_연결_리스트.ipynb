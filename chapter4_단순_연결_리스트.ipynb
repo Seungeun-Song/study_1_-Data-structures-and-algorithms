{
  "nbformat": 4,
  "nbformat_minor": 0,
  "metadata": {
    "colab": {
      "name": "chapter4.단순_연결_리스트.ipynb",
      "provenance": [],
      "collapsed_sections": [],
      "toc_visible": true
    },
    "kernelspec": {
      "name": "python3",
      "display_name": "Python 3"
    },
    "language_info": {
      "name": "python"
    }
  },
  "cells": [
    {
      "cell_type": "markdown",
      "metadata": {
        "id": "h7SFDmjSwgLK"
      },
      "source": [
        "# 단순 연결 리스트 예제"
      ]
    },
    {
      "cell_type": "markdown",
      "metadata": {
        "id": "xZuM2lrUv_eN"
      },
      "source": [
        "## 4-2. 단순 연결 리스트의 간단 구현"
      ]
    },
    {
      "cell_type": "markdown",
      "metadata": {
        "id": "qjSadHhmwzE-"
      },
      "source": [
        "### 4-2-2. 데이터가 5개인 단순 연결 리스트 생성"
      ]
    },
    {
      "cell_type": "code",
      "metadata": {
        "id": "j05QrwANv1wO"
      },
      "source": [
        "class Node():\n",
        "  def __init__(self):\n",
        "    self.data = None\n",
        "    self.link = None\n",
        "\n",
        "node1 = Node()\n",
        "node1.data=\"다현\"\n",
        "\n",
        "node2 = Node()\n",
        "node2.data=\"정현\"\n",
        "node1.link = node2\n",
        "\n",
        "node3 = Node()\n",
        "node3.data=\"쯔위\"\n",
        "node2.link = node3\n",
        "\n",
        "node4 = Node()\n",
        "node4.data=\"사나\"\n",
        "node3.link = node4\n",
        "\n",
        "node5 = Node()\n",
        "node5.data=\"지효\"\n",
        "node4.link = node5"
      ],
      "execution_count": 1,
      "outputs": []
    },
    {
      "cell_type": "code",
      "metadata": {
        "id": "vVbukQVjfZyz",
        "colab": {
          "base_uri": "https://localhost:8080/"
        },
        "outputId": "f5c7f8fb-7bf3-4c37-aa5c-eea94f1e25e4"
      },
      "source": [
        "print(node1.data, end=\" \")\n",
        "print(node1.link.data, end=\" \")\n",
        "print(node1.link.link.data, end=\" \")\n",
        "print(node1.link.link.link.data, end=\" \")\n",
        "print(node1.link.link.link.link.data, end=\" \")"
      ],
      "execution_count": 2,
      "outputs": [
        {
          "output_type": "stream",
          "text": [
            "다현 정현 쯔위 사나 지효 "
          ],
          "name": "stdout"
        }
      ]
    },
    {
      "cell_type": "code",
      "metadata": {
        "colab": {
          "base_uri": "https://localhost:8080/"
        },
        "id": "WsHz4PxJw5RN",
        "outputId": "94cd9d2d-547f-4dfb-8f85-3e13305c2ad7"
      },
      "source": [
        "print(node1.link)\n",
        "print(node1.link.link)"
      ],
      "execution_count": 3,
      "outputs": [
        {
          "output_type": "stream",
          "text": [
            "<__main__.Node object at 0x7f22a204c650>\n",
            "<__main__.Node object at 0x7f22a204c550>\n"
          ],
          "name": "stdout"
        }
      ]
    },
    {
      "cell_type": "code",
      "metadata": {
        "colab": {
          "base_uri": "https://localhost:8080/"
        },
        "id": "B7u0MCjBxdXG",
        "outputId": "a8525a8f-ba6a-4f3d-bb9f-1f12e8318b49"
      },
      "source": [
        "print(node2.data)"
      ],
      "execution_count": 4,
      "outputs": [
        {
          "output_type": "stream",
          "text": [
            "정현\n"
          ],
          "name": "stdout"
        }
      ]
    },
    {
      "cell_type": "markdown",
      "metadata": {
        "id": "0vk5nYFJyINt"
      },
      "source": [
        "* current를 이용한데이터 출력"
      ]
    },
    {
      "cell_type": "code",
      "metadata": {
        "colab": {
          "base_uri": "https://localhost:8080/"
        },
        "id": "Mjd6RgYXx0Qz",
        "outputId": "c3a07b16-358b-441f-985f-dcce7316a18e"
      },
      "source": [
        "current = node1\n",
        "print(current.data)\n",
        "while current.link != None:\n",
        "  current = current.link\n",
        "  print(current.data)\n"
      ],
      "execution_count": 5,
      "outputs": [
        {
          "output_type": "stream",
          "text": [
            "다현\n",
            "정현\n",
            "쯔위\n",
            "사나\n",
            "지효\n"
          ],
          "name": "stdout"
        }
      ]
    },
    {
      "cell_type": "markdown",
      "metadata": {
        "id": "IseuuJuAywcM"
      },
      "source": [
        "### 4-2-3. 노드 삽입"
      ]
    },
    {
      "cell_type": "code",
      "metadata": {
        "id": "t4coRUCwyFk_"
      },
      "source": [
        "newNode = Node()\n",
        "newNode.data = \"I,my,me\"\n",
        "newNode.link = node2.link\n",
        "node2.link = newNode"
      ],
      "execution_count": 6,
      "outputs": []
    },
    {
      "cell_type": "code",
      "metadata": {
        "colab": {
          "base_uri": "https://localhost:8080/"
        },
        "id": "LlI1IF_7z_6g",
        "outputId": "db6d7272-a9f8-46fd-c16e-9ac28dcd87e5"
      },
      "source": [
        "current = node1\n",
        "print(current.data)\n",
        "while current.link != None:\n",
        "  current = current.link\n",
        "  print(current.data)"
      ],
      "execution_count": 7,
      "outputs": [
        {
          "output_type": "stream",
          "text": [
            "다현\n",
            "정현\n",
            "I,my,me\n",
            "쯔위\n",
            "사나\n",
            "지효\n"
          ],
          "name": "stdout"
        }
      ]
    },
    {
      "cell_type": "markdown",
      "metadata": {
        "id": "mfIO_QNk3_oZ"
      },
      "source": [
        "### 4-2-4. 노드 삭제"
      ]
    },
    {
      "cell_type": "code",
      "metadata": {
        "id": "H0lGGOyT33tg"
      },
      "source": [
        "node2.link = newNode.link\n",
        "del(newNode)"
      ],
      "execution_count": 8,
      "outputs": []
    },
    {
      "cell_type": "code",
      "metadata": {
        "colab": {
          "base_uri": "https://localhost:8080/"
        },
        "id": "m8uuXrhu4Z9A",
        "outputId": "1dbe2e0f-36c4-4b55-a4ed-75ebaa6f7ee9"
      },
      "source": [
        "current = node1\n",
        "print(current.data)\n",
        "while current.link != None:\n",
        "  current = current.link\n",
        "  print(current.data)"
      ],
      "execution_count": 9,
      "outputs": [
        {
          "output_type": "stream",
          "text": [
            "다현\n",
            "정현\n",
            "쯔위\n",
            "사나\n",
            "지효\n"
          ],
          "name": "stdout"
        }
      ]
    },
    {
      "cell_type": "code",
      "metadata": {
        "colab": {
          "base_uri": "https://localhost:8080/",
          "height": 187
        },
        "id": "88tpImo24e2p",
        "outputId": "8010e0b4-cf9e-4d67-9118-bf344b21bcee"
      },
      "source": [
        "node2.link = newNode.link\n",
        "del(newNode)"
      ],
      "execution_count": 10,
      "outputs": [
        {
          "output_type": "error",
          "ename": "NameError",
          "evalue": "ignored",
          "traceback": [
            "\u001b[0;31m---------------------------------------------------------------------------\u001b[0m",
            "\u001b[0;31mNameError\u001b[0m                                 Traceback (most recent call last)",
            "\u001b[0;32m<ipython-input-10-a7413e975613>\u001b[0m in \u001b[0;36m<module>\u001b[0;34m()\u001b[0m\n\u001b[0;32m----> 1\u001b[0;31m \u001b[0mnode2\u001b[0m\u001b[0;34m.\u001b[0m\u001b[0mlink\u001b[0m \u001b[0;34m=\u001b[0m \u001b[0mnewNode\u001b[0m\u001b[0;34m.\u001b[0m\u001b[0mlink\u001b[0m\u001b[0;34m\u001b[0m\u001b[0;34m\u001b[0m\u001b[0m\n\u001b[0m\u001b[1;32m      2\u001b[0m \u001b[0;32mdel\u001b[0m\u001b[0;34m(\u001b[0m\u001b[0mnewNode\u001b[0m\u001b[0;34m)\u001b[0m\u001b[0;34m\u001b[0m\u001b[0;34m\u001b[0m\u001b[0m\n",
            "\u001b[0;31mNameError\u001b[0m: name 'newNode' is not defined"
          ]
        }
      ]
    },
    {
      "cell_type": "markdown",
      "metadata": {
        "id": "2j-Q9uJJ5Cvq"
      },
      "source": [
        "## 4-3. 단순 연결 리스트의 일반 구현\n",
        "\n"
      ]
    },
    {
      "cell_type": "markdown",
      "metadata": {
        "id": "aQGOGgwZ_kN1"
      },
      "source": [
        "### 노드의 이름없이 **pre**로 이전 단계 사용 가능"
      ]
    },
    {
      "cell_type": "code",
      "metadata": {
        "colab": {
          "base_uri": "https://localhost:8080/"
        },
        "id": "fY5FQUje4kbY",
        "outputId": "8489200a-31e9-44b5-f499-d5640eed7583"
      },
      "source": [
        "# 클래스와 함수 선언부\n",
        "class Node():\n",
        "  def __init__(self):\n",
        "    self.data = None\n",
        "    self.link = None\n",
        "  \n",
        "def printNodes(start):\n",
        "  current = start\n",
        "  if current == None:\n",
        "    return\n",
        "  print(current.data, end=\" \")\n",
        "  while current.link != None:\n",
        "    current = current.link\n",
        "    print(current.data, end=\" \")\n",
        "  print()\n",
        "\n",
        "\n",
        "# 전역 변수부\n",
        "memory = []\n",
        "head, pre, current = None, None, None\n",
        "dataArray = ['다현','정연','쯔위','사나','지효']\n",
        "\n",
        "# 메인 코드부\n",
        "node = Node()\n",
        "node.data = dataArray[0]\n",
        "head = node\n",
        "memory.append(node)\n",
        "\n",
        "for data in dataArray[1:]:\n",
        "  pre = node\n",
        "  node = Node()\n",
        "  node.data = data\n",
        "  pre.link = node\n",
        "  memory.append(node)\n",
        "\n",
        "\n",
        "printNodes(head)"
      ],
      "execution_count": 11,
      "outputs": [
        {
          "output_type": "stream",
          "text": [
            "다현 정연 쯔위 사나 지효 \n"
          ],
          "name": "stdout"
        }
      ]
    },
    {
      "cell_type": "markdown",
      "metadata": {
        "id": "KC1G1aV5_c4t"
      },
      "source": [
        "### 4-3-3. 노드 삽입"
      ]
    },
    {
      "cell_type": "code",
      "metadata": {
        "colab": {
          "base_uri": "https://localhost:8080/"
        },
        "id": "N4Cg9QtA-k6f",
        "outputId": "a6068ea2-b6e2-4be8-e5fb-49dae046730f"
      },
      "source": [
        "# 클래스와 함수 선언부\n",
        "class Node():\n",
        "  def __init__(self):\n",
        "    self.data = None\n",
        "    self.link = None\n",
        "  \n",
        "def printNodes(start):\n",
        "  current = start\n",
        "  if current == None:\n",
        "    return\n",
        "  print(current.data, end=\" \")\n",
        "  while current.link != None:\n",
        "    current = current.link\n",
        "    print(current.data, end=\" \")\n",
        "  print()\n",
        "\n",
        "def insertNode(findData, insertData):\n",
        "  global memory, head, current, pre\n",
        "\n",
        "  # 맨 앞에 노드를 삽입(다현 앞에 화사 넣기)\n",
        "  if head.data == findData:  \n",
        "    node = Node()\n",
        "    node.data = insertData\n",
        "    node.link = head\n",
        "    head = node\n",
        "    return\n",
        "\n",
        "  # 중간 노드 삽입\n",
        "  current = head \n",
        "  while current.link != None:\n",
        "    pre = current\n",
        "    current = current.link\n",
        "    if current == findData:\n",
        "      node = Node()\n",
        "      node.data = insertData\n",
        "      node.link = current\n",
        "      pre.link = node\n",
        "      return\n",
        "\n",
        "  # 마지막 노드 삽입\n",
        "  node = Node()\n",
        "  node.data = insertData\n",
        "  current.link = node\n",
        "\n",
        "\n",
        "# 전역 변수 선언 부분\n",
        "memory = []\n",
        "head, pre, current = None, None, None\n",
        "dataArray = ['다현','정연','쯔위','사나','지효']\n",
        "\n",
        "# 메인 코드 부분\n",
        "node = Node()\n",
        "node.data = dataArray[0]\n",
        "head = node\n",
        "memory.append(node)\n",
        "\n",
        "for data in dataArray[1:]:\n",
        "  pre = node\n",
        "  node = Node()\n",
        "  node.data = data\n",
        "  pre.link = node\n",
        "  memory.append(node)\n",
        "\n",
        "\n",
        "printNodes(head)\n",
        "insertNode(\"다현\",\"화사\")\n",
        "printNodes(head)\n",
        "insertNode(\"사나\",\"솔라\")\n",
        "printNodes(head)\n",
        "insertNode(\"I my me\",\"문별\")"
      ],
      "execution_count": 12,
      "outputs": [
        {
          "output_type": "stream",
          "text": [
            "다현 정연 쯔위 사나 지효 \n",
            "화사 다현 정연 쯔위 사나 지효 \n",
            "화사 다현 정연 쯔위 사나 지효 솔라 \n"
          ],
          "name": "stdout"
        }
      ]
    },
    {
      "cell_type": "markdown",
      "metadata": {
        "id": "x9mU61WeDxFD"
      },
      "source": [
        "### 4-3-4. 노드 삭제"
      ]
    },
    {
      "cell_type": "code",
      "metadata": {
        "colab": {
          "base_uri": "https://localhost:8080/"
        },
        "id": "BUeO9NIpDNp1",
        "outputId": "db259705-73a0-42e5-c30b-1b8205851c0d"
      },
      "source": [
        "# 클래스와 함수 선언부\n",
        "class Node():\n",
        "  def __init__(self):\n",
        "    self.data = None\n",
        "    self.link = None\n",
        "  \n",
        "def printNodes(start):\n",
        "  current = start\n",
        "  if current == None:\n",
        "    return\n",
        "  print(current.data, end=\" \")\n",
        "  while current.link != None:\n",
        "    current = current.link\n",
        "    print(current.data, end=\" \")\n",
        "  print()\n",
        "\n",
        "def deleteNode(deleteData):\n",
        "  global memory, head, current, pre\n",
        "\n",
        "  if head.data == deleteData:\n",
        "    current = head\n",
        "    head = head.link\n",
        "    del(current)\n",
        "    return\n",
        "\n",
        "  current = head\n",
        "  while current.link != None:\n",
        "    pre = current\n",
        "    current = current.link\n",
        "    if current.data == deleteData:\n",
        "      pre.link = current.link\n",
        "      del(current)\n",
        "      return\n",
        "    \n",
        "deleteNode(\"화사\")\n",
        "printNodes(head)\n",
        "deleteNode(\"쯔위\")\n",
        "printNodes(head)\n",
        "deleteNode(\"문별\")\n",
        "printNodes(head)\n",
        "deleteNode(\"거기\")\n",
        "printNodes(head)\n",
        "  "
      ],
      "execution_count": 13,
      "outputs": [
        {
          "output_type": "stream",
          "text": [
            "다현 정연 쯔위 사나 지효 솔라 문별 \n",
            "다현 정연 사나 지효 솔라 문별 \n",
            "다현 정연 사나 지효 솔라 \n",
            "다현 정연 사나 지효 솔라 \n"
          ],
          "name": "stdout"
        }
      ]
    },
    {
      "cell_type": "markdown",
      "metadata": {
        "id": "Ai4ufeZowJD0"
      },
      "source": [
        "### 4-3-5. 노드 검색"
      ]
    },
    {
      "cell_type": "code",
      "metadata": {
        "id": "jcP13GfyE_tf",
        "colab": {
          "base_uri": "https://localhost:8080/"
        },
        "outputId": "e1bbbe8e-f686-42c1-d2c5-159302a96d93"
      },
      "source": [
        "# 클래스와 함수 선언부\n",
        "class Node():\n",
        "  def __init__(self):\n",
        "    self.data = None\n",
        "    self.link = None\n",
        "  \n",
        "def printNodes(start):\n",
        "  current = start\n",
        "  if current == None:\n",
        "    return\n",
        "  print(current.data, end=\" \")\n",
        "  while current.link != None:\n",
        "    current = current.link\n",
        "    print(current.data, end=\" \")\n",
        "  print()\n",
        "\n",
        "def findNode(findData):\n",
        "  global memory, head, current, pre\n",
        "  \n",
        "  current = head\n",
        "  if current.data == findData:\n",
        "    return current\n",
        "  while current.link != None:\n",
        "    current = current.link\n",
        "    if current.data == findData:\n",
        "      return current\n",
        "  #return Node()\n",
        "\n",
        "\n",
        "# 전역 변수 선언 부분\n",
        "memory = []\n",
        "head, pre, current = None, None, None\n",
        "dataArray = ['다현','정연','쯔위','사나','지효']\n",
        "\n",
        "# 메인 코드 부분\n",
        "node = Node()\n",
        "node.data = dataArray[0]\n",
        "head = node\n",
        "memory.append(node)\n",
        "\n",
        "for data in dataArray[1:]:\n",
        "  pre = node\n",
        "  node = Node()\n",
        "  node.data = data\n",
        "  pre.link = node\n",
        "  memory.append(node)\n",
        "\n",
        "printNodes(head)\n",
        "\n",
        "fNode = findNode(\"다현\")\n",
        "print(fNode.data)\n",
        "\n",
        "fNode = findNode(\"쯔위\")\n",
        "print(fNode.data)\n",
        "\n",
        "fNode = findNode(\"hello\")\n",
        "print(fNode)\n",
        "\n"
      ],
      "execution_count": 19,
      "outputs": [
        {
          "output_type": "stream",
          "text": [
            "다현 정연 쯔위 사나 지효 \n",
            "다현\n",
            "쯔위\n",
            "None\n"
          ],
          "name": "stdout"
        }
      ]
    }
  ]
}