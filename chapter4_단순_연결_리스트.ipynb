{
  "nbformat": 4,
  "nbformat_minor": 0,
  "metadata": {
    "colab": {
      "name": "chapter4.단순_연결_리스트.ipynb",
      "provenance": [],
      "collapsed_sections": [],
      "toc_visible": true
    },
    "kernelspec": {
      "name": "python3",
      "display_name": "Python 3"
    },
    "language_info": {
      "name": "python"
    }
  },
  "cells": [
    {
      "cell_type": "markdown",
      "metadata": {
        "id": "h7SFDmjSwgLK"
      },
      "source": [
        "# 단순 연결 리스트 예제"
      ]
    },
    {
      "cell_type": "markdown",
      "metadata": {
        "id": "xZuM2lrUv_eN"
      },
      "source": [
        "## 4-2. 단순 연결 리스트의 간단 구현"
      ]
    },
    {
      "cell_type": "markdown",
      "metadata": {
        "id": "qjSadHhmwzE-"
      },
      "source": [
        "### 4-2-2. 데이터가 5개인 단순 연결 리스트 생성"
      ]
    },
    {
      "cell_type": "code",
      "metadata": {
        "id": "j05QrwANv1wO"
      },
      "source": [
        "class Node():\n",
        "  def __init__(self):\n",
        "    self.data = None\n",
        "    self.link = None\n",
        "\n",
        "node1 = Node()\n",
        "node1.data=\"다현\"\n",
        "\n",
        "node2 = Node()\n",
        "node2.data=\"정현\"\n",
        "node1.link = node2\n",
        "\n",
        "node3 = Node()\n",
        "node3.data=\"쯔위\"\n",
        "node2.link = node3\n",
        "\n",
        "node4 = Node()\n",
        "node4.data=\"사나\"\n",
        "node3.link = node4\n",
        "\n",
        "node5 = Node()\n",
        "node5.data=\"지효\"\n",
        "node4.link = node5"
      ],
      "execution_count": 7,
      "outputs": []
    },
    {
      "cell_type": "code",
      "metadata": {
        "id": "vVbukQVjfZyz",
        "colab": {
          "base_uri": "https://localhost:8080/"
        },
        "outputId": "19541e57-21aa-4f2c-8360-c175caefdae0"
      },
      "source": [
        "print(node1.data, end=\" \")\n",
        "print(node1.link.data, end=\" \")\n",
        "print(node1.link.link.data, end=\" \")\n",
        "print(node1.link.link.link.data, end=\" \")\n",
        "print(node1.link.link.link.link.data, end=\" \")"
      ],
      "execution_count": 8,
      "outputs": [
        {
          "output_type": "stream",
          "text": [
            "다현 정현 쯔위 사나 지효 "
          ],
          "name": "stdout"
        }
      ]
    },
    {
      "cell_type": "code",
      "metadata": {
        "colab": {
          "base_uri": "https://localhost:8080/"
        },
        "id": "WsHz4PxJw5RN",
        "outputId": "1a6a8068-25c5-45a4-9b84-049366b449bb"
      },
      "source": [
        "print(node1.link)\n",
        "print(node1.link.link)"
      ],
      "execution_count": 10,
      "outputs": [
        {
          "output_type": "stream",
          "text": [
            "<__main__.Node object at 0x7f8c6c5d3090>\n",
            "<__main__.Node object at 0x7f8c6c5de290>\n"
          ],
          "name": "stdout"
        }
      ]
    },
    {
      "cell_type": "code",
      "metadata": {
        "colab": {
          "base_uri": "https://localhost:8080/"
        },
        "id": "B7u0MCjBxdXG",
        "outputId": "82f536b6-dd91-43f1-dc80-b18115bd74d8"
      },
      "source": [
        "print(node2.data)"
      ],
      "execution_count": 11,
      "outputs": [
        {
          "output_type": "stream",
          "text": [
            "정현\n"
          ],
          "name": "stdout"
        }
      ]
    },
    {
      "cell_type": "markdown",
      "metadata": {
        "id": "0vk5nYFJyINt"
      },
      "source": [
        "* current를 이용한데이터 출력"
      ]
    },
    {
      "cell_type": "code",
      "metadata": {
        "colab": {
          "base_uri": "https://localhost:8080/"
        },
        "id": "Mjd6RgYXx0Qz",
        "outputId": "19584442-9730-4e98-c2e6-1194367abd45"
      },
      "source": [
        "current = node1\n",
        "print(current.data)\n",
        "while current.link != None:\n",
        "  current = current.link\n",
        "  print(current.data)\n"
      ],
      "execution_count": 17,
      "outputs": [
        {
          "output_type": "stream",
          "text": [
            "다현\n",
            "정현\n",
            "쯔위\n",
            "사나\n",
            "지효\n"
          ],
          "name": "stdout"
        }
      ]
    },
    {
      "cell_type": "markdown",
      "metadata": {
        "id": "IseuuJuAywcM"
      },
      "source": [
        "### 4-2-3. 노드 삽입"
      ]
    },
    {
      "cell_type": "code",
      "metadata": {
        "id": "t4coRUCwyFk_"
      },
      "source": [
        "newNode = Node()\n",
        "newNode.data = \"I,my,me\"\n",
        "newNode.link = node2.link\n",
        "node2.link = newNode"
      ],
      "execution_count": 23,
      "outputs": []
    },
    {
      "cell_type": "code",
      "metadata": {
        "colab": {
          "base_uri": "https://localhost:8080/"
        },
        "id": "LlI1IF_7z_6g",
        "outputId": "9fda8553-073c-4781-ce42-8cf110be4ef3"
      },
      "source": [
        "current = node1\n",
        "print(current.data)\n",
        "while current.link != None:\n",
        "  current = current.link\n",
        "  print(current.data)"
      ],
      "execution_count": 24,
      "outputs": [
        {
          "output_type": "stream",
          "text": [
            "다현\n",
            "정현\n",
            "I,my,me\n",
            "I,my,me\n",
            "I\n",
            "쯔위\n",
            "사나\n",
            "지효\n"
          ],
          "name": "stdout"
        }
      ]
    },
    {
      "cell_type": "markdown",
      "metadata": {
        "id": "mfIO_QNk3_oZ"
      },
      "source": [
        "### 4-2-4. 노드 삭제"
      ]
    },
    {
      "cell_type": "code",
      "metadata": {
        "id": "H0lGGOyT33tg"
      },
      "source": [
        "node2.link = newNode.link\n",
        "del(newNode)"
      ],
      "execution_count": 25,
      "outputs": []
    },
    {
      "cell_type": "code",
      "metadata": {
        "colab": {
          "base_uri": "https://localhost:8080/"
        },
        "id": "m8uuXrhu4Z9A",
        "outputId": "fa45881d-3325-44d4-9d77-5e6d83ad9915"
      },
      "source": [
        "current = node1\n",
        "print(current.data)\n",
        "while current.link != None:\n",
        "  current = current.link\n",
        "  print(current.data)"
      ],
      "execution_count": 29,
      "outputs": [
        {
          "output_type": "stream",
          "text": [
            "다현\n",
            "정현\n",
            "I,my,me\n",
            "I\n",
            "쯔위\n",
            "사나\n",
            "지효\n"
          ],
          "name": "stdout"
        }
      ]
    },
    {
      "cell_type": "code",
      "metadata": {
        "colab": {
          "base_uri": "https://localhost:8080/",
          "height": 187
        },
        "id": "88tpImo24e2p",
        "outputId": "cbb4ef4b-361c-4c64-ccdc-7631fbc14993"
      },
      "source": [
        "node2.link = newNode.link\n",
        "del(newNode)"
      ],
      "execution_count": 27,
      "outputs": [
        {
          "output_type": "error",
          "ename": "NameError",
          "evalue": "ignored",
          "traceback": [
            "\u001b[0;31m---------------------------------------------------------------------------\u001b[0m",
            "\u001b[0;31mNameError\u001b[0m                                 Traceback (most recent call last)",
            "\u001b[0;32m<ipython-input-27-a7413e975613>\u001b[0m in \u001b[0;36m<module>\u001b[0;34m()\u001b[0m\n\u001b[0;32m----> 1\u001b[0;31m \u001b[0mnode2\u001b[0m\u001b[0;34m.\u001b[0m\u001b[0mlink\u001b[0m \u001b[0;34m=\u001b[0m \u001b[0mnewNode\u001b[0m\u001b[0;34m.\u001b[0m\u001b[0mlink\u001b[0m\u001b[0;34m\u001b[0m\u001b[0;34m\u001b[0m\u001b[0m\n\u001b[0m\u001b[1;32m      2\u001b[0m \u001b[0;32mdel\u001b[0m\u001b[0;34m(\u001b[0m\u001b[0mnewNode\u001b[0m\u001b[0;34m)\u001b[0m\u001b[0;34m\u001b[0m\u001b[0;34m\u001b[0m\u001b[0m\n",
            "\u001b[0;31mNameError\u001b[0m: name 'newNode' is not defined"
          ]
        }
      ]
    },
    {
      "cell_type": "markdown",
      "metadata": {
        "id": "2j-Q9uJJ5Cvq"
      },
      "source": [
        "## 4-3. 단순 연결 리스트의 일반 구현\n",
        "\n"
      ]
    },
    {
      "cell_type": "markdown",
      "metadata": {
        "id": "aQGOGgwZ_kN1"
      },
      "source": [
        "### 노드의 이름없이 **pre**로 이전 단계 사용 가능"
      ]
    },
    {
      "cell_type": "code",
      "metadata": {
        "colab": {
          "base_uri": "https://localhost:8080/"
        },
        "id": "fY5FQUje4kbY",
        "outputId": "7463dcac-c85e-40be-fbe5-c7bf1a74baab"
      },
      "source": [
        "# 클래스와 함수 선언부\n",
        "class Node():\n",
        "  def __init__(self):\n",
        "    self.data = None\n",
        "    self.link = None\n",
        "  \n",
        "def printNodes(start):\n",
        "  current = start\n",
        "  if current == None:\n",
        "    return\n",
        "  print(current.data, end=\" \")\n",
        "  while current.link != None:\n",
        "    current = current.link\n",
        "    print(current.data, end=\" \")\n",
        "  print()\n",
        "\n",
        "\n",
        "# 전역 변수부\n",
        "memory = []\n",
        "head, pre, current = None, None, None\n",
        "dataArray = ['다현','정연','쯔위','사나','지효']\n",
        "\n",
        "# 메인 코드부\n",
        "node = Node()\n",
        "node.data = dataArray[0]\n",
        "head = node\n",
        "memory.append(node)\n",
        "\n",
        "for data in dataArray[1:]:\n",
        "  pre = node\n",
        "  node = Node()\n",
        "  node.data = data\n",
        "  pre.link = node\n",
        "  memory.append(node)\n",
        "\n",
        "\n",
        "printNodes(head)"
      ],
      "execution_count": 32,
      "outputs": [
        {
          "output_type": "stream",
          "text": [
            "다현 정연 쯔위 사나 지효 \n"
          ],
          "name": "stdout"
        }
      ]
    },
    {
      "cell_type": "markdown",
      "metadata": {
        "id": "KC1G1aV5_c4t"
      },
      "source": [
        "### 4-3-3. 노드 삽입"
      ]
    },
    {
      "cell_type": "code",
      "metadata": {
        "colab": {
          "base_uri": "https://localhost:8080/"
        },
        "id": "N4Cg9QtA-k6f",
        "outputId": "d423284d-0232-498b-c8b6-b5d5f19eccd0"
      },
      "source": [
        "# 클래스와 함수 선언부\n",
        "class Node():\n",
        "  def __init__(self):\n",
        "    self.data = None\n",
        "    self.link = None\n",
        "  \n",
        "def printNodes(start):\n",
        "  current = start\n",
        "  if current == None:\n",
        "    return\n",
        "  print(current.data, end=\" \")\n",
        "  while current.link != None:\n",
        "    current = current.link\n",
        "    print(current.data, end=\" \")\n",
        "  print()\n",
        "\n",
        "def insertNode(findData, insertData):\n",
        "  global memory, head, current, pre\n",
        "\n",
        "  # 맨 앞에 노드를 삽입(다현 앞에 화사 넣기)\n",
        "  if head.data == findData:  \n",
        "    node = Node()\n",
        "    node.data = insertData\n",
        "    node.link = head\n",
        "    head = node\n",
        "    return\n",
        "\n",
        "  # 중간 노드 삽입\n",
        "  current = head \n",
        "  while current.link != None:\n",
        "    pre = current\n",
        "    current = current.link\n",
        "    if current == findData:\n",
        "      node = Node()\n",
        "      node.data = insertData\n",
        "      node.link = current\n",
        "      pre.link = node\n",
        "      return\n",
        "\n",
        "  # 마지막 노드 삽입\n",
        "  node = Node()\n",
        "  node.data = insertData\n",
        "  current.link = node\n",
        "\n",
        "\n",
        "# 전역 변수 선언 부분\n",
        "memory = []\n",
        "head, pre, current = None, None, None\n",
        "dataArray = ['다현','정연','쯔위','사나','지효']\n",
        "\n",
        "# 메인 코드 부분\n",
        "node = Node()\n",
        "node.data = dataArray[0]\n",
        "head = node\n",
        "memory.append(node)\n",
        "\n",
        "for data in dataArray[1:]:\n",
        "  pre = node\n",
        "  node = Node()\n",
        "  node.data = data\n",
        "  pre.link = node\n",
        "  memory.append(node)\n",
        "\n",
        "\n",
        "printNodes(head)\n",
        "insertNode(\"다현\",\"화사\")\n",
        "printNodes(head)\n",
        "insertNode(\"사나\",\"솔라\")\n",
        "printNodes(head)\n",
        "insertNode(\"I my me\",\"문별\")"
      ],
      "execution_count": 37,
      "outputs": [
        {
          "output_type": "stream",
          "text": [
            "다현 정연 쯔위 사나 지효 \n",
            "화사 다현 정연 쯔위 사나 지효 \n",
            "화사 다현 정연 쯔위 사나 지효 솔라 \n"
          ],
          "name": "stdout"
        }
      ]
    },
    {
      "cell_type": "markdown",
      "metadata": {
        "id": "x9mU61WeDxFD"
      },
      "source": [
        "### 4-3-4. 노드 삭제"
      ]
    },
    {
      "cell_type": "code",
      "metadata": {
        "colab": {
          "base_uri": "https://localhost:8080/"
        },
        "id": "BUeO9NIpDNp1",
        "outputId": "4b0d9c1e-f6a7-44eb-ace6-8a11279f9728"
      },
      "source": [
        "# 클래스와 함수 선언부\n",
        "class Node():\n",
        "  def __init__(self):\n",
        "    self.data = None\n",
        "    self.link = None\n",
        "  \n",
        "def printNodes(start):\n",
        "  current = start\n",
        "  if current == None:\n",
        "    return\n",
        "  print(current.data, end=\" \")\n",
        "  while current.link != None:\n",
        "    current = current.link\n",
        "    print(current.data, end=\" \")\n",
        "  print()\n",
        "\n",
        "def deleteNode(deleteData):\n",
        "  global memory, head, current, pre\n",
        "\n",
        "  if head.data == deleteData:\n",
        "    current = head\n",
        "    head = head.link\n",
        "    del(current)\n",
        "    return\n",
        "\n",
        "  current = head\n",
        "  while current.link != None:\n",
        "    pre = current\n",
        "    current = current.link\n",
        "    if current.data == deleteData:\n",
        "      pre.link = current.link\n",
        "      del(current)\n",
        "      return\n",
        "    \n",
        "deleteNode(\"화사\")\n",
        "printNodes(head)\n",
        "deleteNode(\"쯔위\")\n",
        "printNodes(head)\n",
        "deleteNode(\"문별\")\n",
        "printNodes(head)\n",
        "deleteNode(\"거기\")\n",
        "printNodes(head)\n",
        "  "
      ],
      "execution_count": 41,
      "outputs": [
        {
          "output_type": "stream",
          "text": [
            "다현 정연 쯔위 사나 지효 솔라 문별 \n",
            "다현 정연 사나 지효 솔라 문별 \n",
            "다현 정연 사나 지효 솔라 \n",
            "다현 정연 사나 지효 솔라 \n"
          ],
          "name": "stdout"
        }
      ]
    },
    {
      "cell_type": "code",
      "metadata": {
        "id": "jcP13GfyE_tf"
      },
      "source": [
        ""
      ],
      "execution_count": null,
      "outputs": []
    }
  ]
}