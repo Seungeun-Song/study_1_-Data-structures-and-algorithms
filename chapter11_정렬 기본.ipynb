{
 "cells": [
  {
   "cell_type": "code",
   "execution_count": 4,
   "metadata": {},
   "outputs": [
    {
     "name": "stdout",
     "output_type": "stream",
     "text": [
      "최솟값 --> 33\n"
     ]
    }
   ],
   "source": [
    "# code 11-01 배열에서 최솟값 위치를 찾는 함수\n",
    "\n",
    "def findMinIdx(ary) :\n",
    "    minIdx = 0\n",
    "    for i in range(1, len(ary)):\n",
    "        if (ary[minIdx] > ary[i]):\n",
    "            minIdx = i\n",
    "    return minIdx\n",
    "\n",
    "\n",
    "\n",
    "testAry = [55, 88, 33, 77]\n",
    "minPos = findMinIdx(testAry)\n",
    "print(\"최솟값 -->\", testAry[minPos])"
   ]
  },
  {
   "cell_type": "markdown",
   "metadata": {},
   "source": [
    "## 선택 정렬 구현"
   ]
  },
  {
   "cell_type": "code",
   "execution_count": 5,
   "metadata": {},
   "outputs": [
    {
     "name": "stdout",
     "output_type": "stream",
     "text": [
      "[188, 162, 168, 120, 50, 150, 177, 105]\n",
      "[50, 105, 120, 150, 162, 168, 177, 188]\n"
     ]
    }
   ],
   "source": [
    "# code 11-02 선택 정렬 구현\n",
    "\n",
    "def findMinIdx(ary) :\n",
    "    minIdx = 0\n",
    "    for i in range(1, len(ary)):\n",
    "        if (ary[minIdx] > ary[i]):\n",
    "            minIdx = i\n",
    "    return minIdx\n",
    "\n",
    "\n",
    "\n",
    "before = [188, 162, 168, 120, 50, 150, 177, 105]\n",
    "after = []\n",
    "\n",
    "print(before)\n",
    "for _ in range(len(before)):\n",
    "    minPos = findMinIdx(before)\n",
    "    after.append(before[minPos])\n",
    "    del(before[minPos])\n",
    "print(after)"
   ]
  },
  {
   "cell_type": "markdown",
   "metadata": {},
   "source": [
    "## 기존 배열 내에서 정렬 (새로운 배열 만들지 않고)"
   ]
  },
  {
   "cell_type": "code",
   "execution_count": null,
   "metadata": {},
   "outputs": [],
   "source": []
  }
 ],
 "metadata": {
  "interpreter": {
   "hash": "158c7bc230baa679ca182b4718adf686d41531c90bfabba3f011a6ade0a83385"
  },
  "kernelspec": {
   "display_name": "Python 3.10.0 64-bit",
   "language": "python",
   "name": "python3"
  },
  "language_info": {
   "codemirror_mode": {
    "name": "ipython",
    "version": 3
   },
   "file_extension": ".py",
   "mimetype": "text/x-python",
   "name": "python",
   "nbconvert_exporter": "python",
   "pygments_lexer": "ipython3",
   "version": "3.10.0"
  },
  "orig_nbformat": 4
 },
 "nbformat": 4,
 "nbformat_minor": 2
}
