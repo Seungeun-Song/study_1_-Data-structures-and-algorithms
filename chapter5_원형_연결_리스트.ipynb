{
  "nbformat": 4,
  "nbformat_minor": 0,
  "metadata": {
    "colab": {
      "name": "chapter5.원형_연결_리스트.ipynb",
      "provenance": []
    },
    "kernelspec": {
      "name": "python3",
      "display_name": "Python 3"
    },
    "language_info": {
      "name": "python"
    }
  },
  "cells": [
    {
      "cell_type": "markdown",
      "metadata": {
        "id": "sJnwafdg0toq"
      },
      "source": [
        "## 5-3. 원형 연결 리스트의 일반 구현"
      ]
    },
    {
      "cell_type": "markdown",
      "metadata": {
        "id": "lThAiWZY1Fc_"
      },
      "source": [
        "### 5-2-3 노드 삽입"
      ]
    },
    {
      "cell_type": "code",
      "metadata": {
        "id": "h9TdN9RK1ZgJ"
      },
      "source": [
        "# 클래스와 함수 선언부\n",
        "class Node():\n",
        "  def __init__(self):\n",
        "    self.data = None\n",
        "    self.link = None\n"
      ],
      "execution_count": 1,
      "outputs": []
    },
    {
      "cell_type": "code",
      "metadata": {
        "id": "ZGOcuXOG1w8c"
      },
      "source": [
        "def printNodes(start):\n",
        "  current = start\n",
        "  if current == None:\n",
        "    return\n",
        "\n",
        "  while current.link != start:\n",
        "    current = current.link\n",
        "    print(current.data, end=\" \")\n",
        "  print()"
      ],
      "execution_count": 2,
      "outputs": []
    },
    {
      "cell_type": "code",
      "metadata": {
        "id": "6Tg4wW1q1xec"
      },
      "source": [
        "def insertNode(findData, insertData):\n",
        "  global memory, head, current, pre\n",
        "\n",
        "  # 첫번째 노드 삽입\n",
        "  if head.data == findData:\n",
        "    node = Node()\n",
        "    node.data = insertData\n",
        "    node.link = head\n",
        "    last = head\n",
        "    while last.link != head:\n",
        "      last = last.link\n",
        "    last.link = node\n",
        "    head = node\n",
        "    return\n",
        "\n",
        "  # 중간 노드 삽입\n",
        "  current = head\n",
        "  while current.link != head:\n",
        "    pre = current\n",
        "    current = current.link\n",
        "    if current.link == findData:\n",
        "      node = Node()\n",
        "      node.data = insertData\n",
        "      node.link = current\n",
        "      pre.link = node\n",
        "      return\n",
        "\n",
        "  # 마지막 노드 삽입\n",
        "  node = Node()\n",
        "  node.data = insertData\n",
        "  current.link = node\n",
        "  node.link = head"
      ],
      "execution_count": 8,
      "outputs": []
    },
    {
      "cell_type": "code",
      "metadata": {
        "id": "mMzGrxQT8O_N"
      },
      "source": [
        "# 전역 변수부\n",
        "memory = []\n",
        "head, pre, current = None, None, None\n",
        "dataArray = ['다현','정연','쯔위','사나','지효']"
      ],
      "execution_count": 4,
      "outputs": []
    },
    {
      "cell_type": "code",
      "metadata": {
        "id": "Nt8IPEk88RZm"
      },
      "source": [
        "# 메인 코드 부분\n",
        "node = Node()\n",
        "node.data = dataArray[0]\n",
        "head = node\n",
        "node.link = head  # 첫번째 노드이므로 자신이 자신과 연결된 상태\n",
        "memory.append(node)\n",
        "for data in dataArray[1:]:\n",
        "  pre = node\n",
        "  node = Node()\n",
        "  node.data = data\n",
        "  pre.link = Node\n",
        "  node.link = head\n",
        "  memory.append(node)"
      ],
      "execution_count": 5,
      "outputs": []
    },
    {
      "cell_type": "code",
      "metadata": {
        "colab": {
          "base_uri": "https://localhost:8080/",
          "height": 311
        },
        "id": "oYHJxLjy9i0i",
        "outputId": "f8099520-dd0c-44b0-c927-807c4ac24ff9"
      },
      "source": [
        "insertNode(\"다현\",\"화사\")\n",
        "printNodes(head)"
      ],
      "execution_count": 10,
      "outputs": [
        {
          "output_type": "error",
          "ename": "AttributeError",
          "evalue": "ignored",
          "traceback": [
            "\u001b[0;31m---------------------------------------------------------------------------\u001b[0m",
            "\u001b[0;31mAttributeError\u001b[0m                            Traceback (most recent call last)",
            "\u001b[0;32m<ipython-input-10-9a908d9d33be>\u001b[0m in \u001b[0;36m<module>\u001b[0;34m()\u001b[0m\n\u001b[0;32m----> 1\u001b[0;31m \u001b[0minsertNode\u001b[0m\u001b[0;34m(\u001b[0m\u001b[0;34m\"다현\"\u001b[0m\u001b[0;34m,\u001b[0m\u001b[0;34m\"화사\"\u001b[0m\u001b[0;34m)\u001b[0m\u001b[0;34m\u001b[0m\u001b[0;34m\u001b[0m\u001b[0m\n\u001b[0m\u001b[1;32m      2\u001b[0m \u001b[0mprintNodes\u001b[0m\u001b[0;34m(\u001b[0m\u001b[0mhead\u001b[0m\u001b[0;34m)\u001b[0m\u001b[0;34m\u001b[0m\u001b[0;34m\u001b[0m\u001b[0m\n",
            "\u001b[0;32m<ipython-input-8-8d47e7c6a83e>\u001b[0m in \u001b[0;36minsertNode\u001b[0;34m(findData, insertData)\u001b[0m\n\u001b[1;32m      8\u001b[0m     \u001b[0mnode\u001b[0m\u001b[0;34m.\u001b[0m\u001b[0mlink\u001b[0m \u001b[0;34m=\u001b[0m \u001b[0mhead\u001b[0m\u001b[0;34m\u001b[0m\u001b[0;34m\u001b[0m\u001b[0m\n\u001b[1;32m      9\u001b[0m     \u001b[0mlast\u001b[0m \u001b[0;34m=\u001b[0m \u001b[0mhead\u001b[0m\u001b[0;34m\u001b[0m\u001b[0;34m\u001b[0m\u001b[0m\n\u001b[0;32m---> 10\u001b[0;31m     \u001b[0;32mwhile\u001b[0m \u001b[0mlast\u001b[0m\u001b[0;34m.\u001b[0m\u001b[0mlink\u001b[0m \u001b[0;34m!=\u001b[0m \u001b[0mhead\u001b[0m\u001b[0;34m:\u001b[0m\u001b[0;34m\u001b[0m\u001b[0;34m\u001b[0m\u001b[0m\n\u001b[0m\u001b[1;32m     11\u001b[0m       \u001b[0mlast\u001b[0m \u001b[0;34m=\u001b[0m \u001b[0mlast\u001b[0m\u001b[0;34m.\u001b[0m\u001b[0mlink\u001b[0m\u001b[0;34m\u001b[0m\u001b[0;34m\u001b[0m\u001b[0m\n\u001b[1;32m     12\u001b[0m     \u001b[0mlast\u001b[0m\u001b[0;34m.\u001b[0m\u001b[0mlink\u001b[0m \u001b[0;34m=\u001b[0m \u001b[0mnode\u001b[0m\u001b[0;34m\u001b[0m\u001b[0;34m\u001b[0m\u001b[0m\n",
            "\u001b[0;31mAttributeError\u001b[0m: type object 'Node' has no attribute 'link'"
          ]
        }
      ]
    },
    {
      "cell_type": "code",
      "metadata": {
        "id": "mvBQARwT9ojo"
      },
      "source": [
        ""
      ],
      "execution_count": null,
      "outputs": []
    }
  ]
}