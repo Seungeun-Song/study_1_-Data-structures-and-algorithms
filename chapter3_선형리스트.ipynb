{
  "nbformat": 4,
  "nbformat_minor": 0,
  "metadata": {
    "colab": {
      "name": "chapter3.선형리스트.ipynb",
      "provenance": [],
      "toc_visible": true
    },
    "kernelspec": {
      "name": "python3",
      "display_name": "Python 3"
    },
    "language_info": {
      "name": "python"
    }
  },
  "cells": [
    {
      "cell_type": "markdown",
      "metadata": {
        "id": "0rw5sauoWFT_"
      },
      "source": [
        "# 선형리스트 예제"
      ]
    },
    {
      "cell_type": "markdown",
      "metadata": {
        "id": "aUmGHf-eU-9e"
      },
      "source": [
        "## 3-2. 선형리스트의 간단 구현"
      ]
    },
    {
      "cell_type": "code",
      "metadata": {
        "colab": {
          "base_uri": "https://localhost:8080/"
        },
        "id": "BTLrBiX_T2bT",
        "outputId": "d8f8a75e-f755-4d9c-8c5c-4a805c98ccc3"
      },
      "source": [
        "katok = [\"다현\",\"정연\",\"쯔위\",\"사나\",\"지효\"]\n",
        "print(katok)"
      ],
      "execution_count": 1,
      "outputs": [
        {
          "output_type": "stream",
          "text": [
            "['다현', '정연', '쯔위', '사나', '지효']\n"
          ],
          "name": "stdout"
        }
      ]
    },
    {
      "cell_type": "code",
      "metadata": {
        "colab": {
          "base_uri": "https://localhost:8080/"
        },
        "id": "zh9vwvc2T4U-",
        "outputId": "5527e3d6-0ce3-4e79-d986-ff4ea73e12dc"
      },
      "source": [
        "katok.append(None)\n",
        "print(katok)"
      ],
      "execution_count": 2,
      "outputs": [
        {
          "output_type": "stream",
          "text": [
            "['다현', '정연', '쯔위', '사나', '지효', None]\n"
          ],
          "name": "stdout"
        }
      ]
    },
    {
      "cell_type": "code",
      "metadata": {
        "colab": {
          "base_uri": "https://localhost:8080/"
        },
        "id": "TLrkrvU_T8-X",
        "outputId": "533309dc-fec5-4d8b-9ae1-bf16df779c0f"
      },
      "source": [
        "katok[5]=\"모모\"\n",
        "print(katok)"
      ],
      "execution_count": 3,
      "outputs": [
        {
          "output_type": "stream",
          "text": [
            "['다현', '정연', '쯔위', '사나', '지효', '모모']\n"
          ],
          "name": "stdout"
        }
      ]
    },
    {
      "cell_type": "code",
      "metadata": {
        "colab": {
          "base_uri": "https://localhost:8080/"
        },
        "id": "agbtQXk_UA1H",
        "outputId": "8e4c80ab-af14-46d5-8ffe-6db79333e21f"
      },
      "source": [
        "katok.append(None)\n",
        "katok"
      ],
      "execution_count": 4,
      "outputs": [
        {
          "output_type": "execute_result",
          "data": {
            "text/plain": [
              "['다현', '정연', '쯔위', '사나', '지효', '모모', None]"
            ]
          },
          "metadata": {
            "tags": []
          },
          "execution_count": 4
        }
      ]
    },
    {
      "cell_type": "code",
      "metadata": {
        "colab": {
          "base_uri": "https://localhost:8080/"
        },
        "id": "9mnySyrgUFJu",
        "outputId": "429a4b4d-5e7d-4a93-a0b7-4b6c55baf3ed"
      },
      "source": [
        "katok[6]=katok[5]\n",
        "katok"
      ],
      "execution_count": 5,
      "outputs": [
        {
          "output_type": "execute_result",
          "data": {
            "text/plain": [
              "['다현', '정연', '쯔위', '사나', '지효', '모모', '모모']"
            ]
          },
          "metadata": {
            "tags": []
          },
          "execution_count": 5
        }
      ]
    },
    {
      "cell_type": "code",
      "metadata": {
        "colab": {
          "base_uri": "https://localhost:8080/"
        },
        "id": "FJ7UvOiRUJye",
        "outputId": "e3737a6d-15a6-448c-f6aa-5201dff160c2"
      },
      "source": [
        "katok[5]=None\n",
        "katok"
      ],
      "execution_count": 6,
      "outputs": [
        {
          "output_type": "execute_result",
          "data": {
            "text/plain": [
              "['다현', '정연', '쯔위', '사나', '지효', None, '모모']"
            ]
          },
          "metadata": {
            "tags": []
          },
          "execution_count": 6
        }
      ]
    },
    {
      "cell_type": "code",
      "metadata": {
        "colab": {
          "base_uri": "https://localhost:8080/"
        },
        "id": "y6BYS13zUN7m",
        "outputId": "00b6af8d-fdf6-47a9-8a8f-4c4412afa1a0"
      },
      "source": [
        "katok[5]=katok[4]\n",
        "katok"
      ],
      "execution_count": 7,
      "outputs": [
        {
          "output_type": "execute_result",
          "data": {
            "text/plain": [
              "['다현', '정연', '쯔위', '사나', '지효', '지효', '모모']"
            ]
          },
          "metadata": {
            "tags": []
          },
          "execution_count": 7
        }
      ]
    },
    {
      "cell_type": "code",
      "metadata": {
        "colab": {
          "base_uri": "https://localhost:8080/"
        },
        "id": "Az3t0a8nURP3",
        "outputId": "dcd5e26a-8060-45fd-cb14-a139e20a2519"
      },
      "source": [
        "katok[4]=None\n",
        "katok"
      ],
      "execution_count": 8,
      "outputs": [
        {
          "output_type": "execute_result",
          "data": {
            "text/plain": [
              "['다현', '정연', '쯔위', '사나', None, '지효', '모모']"
            ]
          },
          "metadata": {
            "tags": []
          },
          "execution_count": 8
        }
      ]
    },
    {
      "cell_type": "code",
      "metadata": {
        "colab": {
          "base_uri": "https://localhost:8080/"
        },
        "id": "rGS9DELoUVCm",
        "outputId": "5893a07b-069b-4ee0-c738-fde6c47cd645"
      },
      "source": [
        "katok[4]=katok[3]\n",
        "katok"
      ],
      "execution_count": 9,
      "outputs": [
        {
          "output_type": "execute_result",
          "data": {
            "text/plain": [
              "['다현', '정연', '쯔위', '사나', '사나', '지효', '모모']"
            ]
          },
          "metadata": {
            "tags": []
          },
          "execution_count": 9
        }
      ]
    },
    {
      "cell_type": "code",
      "metadata": {
        "colab": {
          "base_uri": "https://localhost:8080/"
        },
        "id": "nL0gYGR9UYpn",
        "outputId": "f9881d11-ed23-4077-ed47-a40ddce307fc"
      },
      "source": [
        "katok[3] = \"미나\"\n",
        "katok"
      ],
      "execution_count": 10,
      "outputs": [
        {
          "output_type": "execute_result",
          "data": {
            "text/plain": [
              "['다현', '정연', '쯔위', '미나', '사나', '지효', '모모']"
            ]
          },
          "metadata": {
            "tags": []
          },
          "execution_count": 10
        }
      ]
    },
    {
      "cell_type": "code",
      "metadata": {
        "colab": {
          "base_uri": "https://localhost:8080/"
        },
        "id": "-3jf-Ai2UdEH",
        "outputId": "cb6d77c5-5db4-41f1-b9fd-f7b894b0bc37"
      },
      "source": [
        "katok[4] = None\n",
        "katok"
      ],
      "execution_count": 11,
      "outputs": [
        {
          "output_type": "execute_result",
          "data": {
            "text/plain": [
              "['다현', '정연', '쯔위', '미나', None, '지효', '모모']"
            ]
          },
          "metadata": {
            "tags": []
          },
          "execution_count": 11
        }
      ]
    },
    {
      "cell_type": "code",
      "metadata": {
        "colab": {
          "base_uri": "https://localhost:8080/"
        },
        "id": "D7PbZlnHUrqG",
        "outputId": "b14f7c99-8975-4a9c-b784-ccdecd88ff85"
      },
      "source": [
        "katok[4] = katok[5]\n",
        "katok"
      ],
      "execution_count": 12,
      "outputs": [
        {
          "output_type": "execute_result",
          "data": {
            "text/plain": [
              "['다현', '정연', '쯔위', '미나', '지효', '지효', '모모']"
            ]
          },
          "metadata": {
            "tags": []
          },
          "execution_count": 12
        }
      ]
    },
    {
      "cell_type": "code",
      "metadata": {
        "colab": {
          "base_uri": "https://localhost:8080/"
        },
        "id": "nhEymdYnUuJm",
        "outputId": "4014a902-fc69-4ffe-8739-4bc3287bb1f5"
      },
      "source": [
        "katok[5]=None\n",
        "katok"
      ],
      "execution_count": 13,
      "outputs": [
        {
          "output_type": "execute_result",
          "data": {
            "text/plain": [
              "['다현', '정연', '쯔위', '미나', '지효', None, '모모']"
            ]
          },
          "metadata": {
            "tags": []
          },
          "execution_count": 13
        }
      ]
    },
    {
      "cell_type": "code",
      "metadata": {
        "colab": {
          "base_uri": "https://localhost:8080/"
        },
        "id": "scJLdstRUwX3",
        "outputId": "25ce61cf-4897-4713-9fcd-a1df34ef6479"
      },
      "source": [
        "katok[5]=katok[6]\n",
        "katok"
      ],
      "execution_count": 14,
      "outputs": [
        {
          "output_type": "execute_result",
          "data": {
            "text/plain": [
              "['다현', '정연', '쯔위', '미나', '지효', '모모', '모모']"
            ]
          },
          "metadata": {
            "tags": []
          },
          "execution_count": 14
        }
      ]
    },
    {
      "cell_type": "code",
      "metadata": {
        "colab": {
          "base_uri": "https://localhost:8080/"
        },
        "id": "FLZ17SYDU0Z2",
        "outputId": "0d9a9c5d-5b5d-4b91-a34f-d454022b38a7"
      },
      "source": [
        "katok[6] = None\n",
        "katok"
      ],
      "execution_count": 15,
      "outputs": [
        {
          "output_type": "execute_result",
          "data": {
            "text/plain": [
              "['다현', '정연', '쯔위', '미나', '지효', '모모', None]"
            ]
          },
          "metadata": {
            "tags": []
          },
          "execution_count": 15
        }
      ]
    },
    {
      "cell_type": "code",
      "metadata": {
        "colab": {
          "base_uri": "https://localhost:8080/"
        },
        "id": "df30lFc4U2sN",
        "outputId": "45ecd458-4a54-4c4f-9425-949d3ea044ea"
      },
      "source": [
        "del(katok[6])\n",
        "katok"
      ],
      "execution_count": 16,
      "outputs": [
        {
          "output_type": "execute_result",
          "data": {
            "text/plain": [
              "['다현', '정연', '쯔위', '미나', '지효', '모모']"
            ]
          },
          "metadata": {
            "tags": []
          },
          "execution_count": 16
        }
      ]
    },
    {
      "cell_type": "markdown",
      "metadata": {
        "id": "ifjVWXlVVOEm"
      },
      "source": [
        "## 3-3. 선형리시트의 일반구현\n"
      ]
    },
    {
      "cell_type": "markdown",
      "metadata": {
        "id": "ju2jCDyWX-jm"
      },
      "source": [
        "### 3-3-2. 선형 리스트 생성 함수의 완성"
      ]
    },
    {
      "cell_type": "code",
      "metadata": {
        "colab": {
          "base_uri": "https://localhost:8080/"
        },
        "id": "xQAihHpMU6Qm",
        "outputId": "947bd247-dd1b-4049-c33c-375f47409fc2"
      },
      "source": [
        "katok = []\n",
        "\n",
        "def add_data(friend):\n",
        "  katok.append(None)\n",
        "  kLen = len(katok)\n",
        "  katok[kLen-1]=friend\n",
        "\n",
        "add_data(\"다현\")\n",
        "add_data(\"정연\")\n",
        "add_data(\"쯔위\")\n",
        "add_data(\"사나\")\n",
        "add_data(\"지효\")\n",
        "\n",
        "print(katok)"
      ],
      "execution_count": 17,
      "outputs": [
        {
          "output_type": "stream",
          "text": [
            "['다현', '정연', '쯔위', '사나', '지효']\n"
          ],
          "name": "stdout"
        }
      ]
    },
    {
      "cell_type": "markdown",
      "metadata": {
        "id": "piQioYVaWNaL"
      },
      "source": [
        "### 3-3-3. 데이터 삽입"
      ]
    },
    {
      "cell_type": "code",
      "metadata": {
        "colab": {
          "base_uri": "https://localhost:8080/"
        },
        "id": "0mNUAiyDVjTw",
        "outputId": "cd397966-589c-4f89-afb1-8115648bf022"
      },
      "source": [
        "katok = ['다현', '정연', '쯔위', '사나', '지효']\n",
        "\n",
        "def insert_data(position, friend):\n",
        "  katok.append(None)\n",
        "  kLen = len(katok)\n",
        "\n",
        "  for i in range(kLen-1, position, -1):\n",
        "    katok[i]=katok[i-1]\n",
        "    katok[i-1]= None\n",
        "\n",
        "  katok[position] = friend\n",
        "\n",
        "insert_data(2, \"솔라\")\n",
        "print(katok)\n",
        "insert_data(6, \"문별\")\n",
        "print(katok)"
      ],
      "execution_count": 20,
      "outputs": [
        {
          "output_type": "stream",
          "text": [
            "['다현', '정연', '솔라', '쯔위', '사나', '지효']\n",
            "['다현', '정연', '솔라', '쯔위', '사나', '지효', '문별']\n"
          ],
          "name": "stdout"
        }
      ]
    },
    {
      "cell_type": "markdown",
      "metadata": {
        "id": "mrJev9MnYoDG"
      },
      "source": [
        "### 3-3-5. 데이터 삭제"
      ]
    },
    {
      "cell_type": "code",
      "metadata": {
        "colab": {
          "base_uri": "https://localhost:8080/"
        },
        "id": "kIFd9yG-XTUO",
        "outputId": "bcaf51ad-f642-4d76-a530-b541d2fe6ab3"
      },
      "source": [
        "katok = ['다현', '정연', '쯔위', '사나', '지효']\n",
        "\n",
        "def delete_data(position):\n",
        "  kLen = len(katok)\n",
        "  katok[position]=None\n",
        "\n",
        "  for i in range(position+1, kLen, 1):\n",
        "    katok[i-1] = katok[i]\n",
        "    katok[i] = None\n",
        "\n",
        "  del(katok[kLen-1])\n",
        "\n",
        "delete_data(1)\n",
        "print(katok)\n",
        "\n",
        "delete_data(3)\n",
        "print(katok)"
      ],
      "execution_count": 22,
      "outputs": [
        {
          "output_type": "stream",
          "text": [
            "['다현', '쯔위', '사나', '지효']\n",
            "['다현', '쯔위', '사나']\n"
          ],
          "name": "stdout"
        }
      ]
    },
    {
      "cell_type": "markdown",
      "metadata": {
        "id": "0jewReRjb9wz"
      },
      "source": [
        "### 3-3-6. 선형리스트의 완성"
      ]
    },
    {
      "cell_type": "code",
      "metadata": {
        "colab": {
          "base_uri": "https://localhost:8080/"
        },
        "id": "mm-g_lEmals9",
        "outputId": "c09f0dbd-1682-4bd0-817d-c0c3d66b648c"
      },
      "source": [
        "def add_data(friend):\n",
        "  katok.append(None)\n",
        "  kLen=len(katok)\n",
        "  katok[kLen-1] = friend\n",
        "\n",
        "def insert_data(position, friend):\n",
        "  katok.append(None)\n",
        "  kLen = len(katok)\n",
        "\n",
        "  for i in range(kLen-1, position, -1):\n",
        "    katok[i]=katok[i-1]\n",
        "    katok[i-1] = None\n",
        "  katok[position] = friend\n",
        "\n",
        "def delete_data(position):\n",
        "  katok[position] = None\n",
        "  kLen = len(katok)\n",
        "\n",
        "  for i in range(position+1, kLen):\n",
        "    katok[i-1] = katok[i]\n",
        "    katok[i] = None\n",
        "\n",
        "    del(katok[kLen-1])\n",
        "\n",
        "\n",
        "katok=[]\n",
        "select = -1\n",
        "\n",
        "if __name__ == \"__main__\":\n",
        "  \n",
        "  while (select !=4):\n",
        "    select = int(input(\"선택하세요(1: 추가, 2: 삽입, 3:삭제, 4: 종료)--> \"))\n",
        "\n",
        "    if (select==1):\n",
        "      data= input(\"추가할 데이터-->\")\n",
        "      add_data(data)\n",
        "      print(katok)\n",
        "\n",
        "    elif (select==2):\n",
        "      pos = int(input(\"삽입할 위치-->\"))\n",
        "      data = input(\"추가할 데이터-->\")\n",
        "      insert_data(pos, data)\n",
        "      print(katok)\n",
        "\n",
        "    elif (select==3):\n",
        "      pos = int(input(\"삭제할 위치-->\"))\n",
        "      delete_data(pos)\n",
        "      print(katok)\n",
        "\n",
        "    elif (select==4):\n",
        "      print(katok)\n",
        "      exit\n",
        "    \n",
        "    else:\n",
        "      print(\"1~4 중 하나를 입력하세요\")\n",
        "      continue"
      ],
      "execution_count": 25,
      "outputs": [
        {
          "output_type": "stream",
          "text": [
            "선택하세요(1: 추가, 2: 삽입, 3:삭제, 4: 종료)--> 1\n",
            "추가할 데이터-->다현\n",
            "['다현']\n",
            "선택하세요(1: 추가, 2: 삽입, 3:삭제, 4: 종료)--> 1\n",
            "추가할 데이터-->정연\n",
            "['다현', '정연']\n",
            "선택하세요(1: 추가, 2: 삽입, 3:삭제, 4: 종료)--> 1\n",
            "추가할 데이터-->쯔위\n",
            "['다현', '정연', '쯔위']\n",
            "선택하세요(1: 추가, 2: 삽입, 3:삭제, 4: 종료)--> 2\n",
            "삽입할 위치-->1\n",
            "추가할 데이터-->하나\n",
            "['다현', '하나', '정연', '쯔위']\n",
            "선택하세요(1: 추가, 2: 삽입, 3:삭제, 4: 종료)--> 2\n",
            "삽입할 위치-->0\n",
            "추가할 데이터-->문별\n",
            "['문별', '다현', '하나', '정연', '쯔위']\n",
            "선택하세요(1: 추가, 2: 삽입, 3:삭제, 4: 종료)--> 3\n",
            "삭제할 위치-->3\n",
            "['문별', '다현', '하나', '쯔위']\n",
            "선택하세요(1: 추가, 2: 삽입, 3:삭제, 4: 종료)--> 4\n",
            "['문별', '다현', '하나', '쯔위']\n"
          ],
          "name": "stdout"
        }
      ]
    }
  ]
}